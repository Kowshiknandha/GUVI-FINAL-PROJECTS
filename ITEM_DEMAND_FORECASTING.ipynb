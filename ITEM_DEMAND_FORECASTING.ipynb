{
  "nbformat": 4,
  "nbformat_minor": 0,
  "metadata": {
    "colab": {
      "provenance": [],
      "authorship_tag": "ABX9TyNWaE0hN4VteZ5e5UpCL4Nf",
      "include_colab_link": true
    },
    "kernelspec": {
      "name": "python3",
      "display_name": "Python 3"
    },
    "language_info": {
      "name": "python"
    }
  },
  "cells": [
    {
      "cell_type": "markdown",
      "metadata": {
        "id": "view-in-github",
        "colab_type": "text"
      },
      "source": [
        "<a href=\"https://colab.research.google.com/github/Kowshiknandha/GUVI-FINAL-PROJECTS/blob/main/ITEM_DEMAND_FORECASTING.ipynb\" target=\"_parent\"><img src=\"https://colab.research.google.com/assets/colab-badge.svg\" alt=\"Open In Colab\"/></a>"
      ]
    },
    {
      "cell_type": "markdown",
      "source": [
        "**ITEM DEMAND FORCASTING FOR 3 MONTHS.**\n",
        "\n",
        "**AIM:**\n",
        "\n",
        "**This model was analysing the 5 years of sales of 50+ items in 10+ different  shops at every day .It will be find the demand of next three months of items.** "
      ],
      "metadata": {
        "id": "JpFylquG3XNf"
      }
    },
    {
      "cell_type": "markdown",
      "source": [
        "1.Data cleaning.  \n",
        "\n",
        "2.EDA for dataset\n",
        "\n",
        "3.Splitting of data\n",
        "\n",
        "4.Scaling of the data\n",
        "\n",
        "5.Build the model\n",
        "\n",
        "  A.Linear regression algorithm\n",
        "\n",
        "  B.KNN regressor algorithm\n",
        "\n",
        "  C.Decision tree regressor algorithm\n",
        "\n",
        "  D.Random forest regressor algorithm\n",
        "\n",
        "  E.xgboost algorithm\n",
        "\n",
        "  F.Voting regressor algorithm  \n",
        "\n",
        "6.Evaluate the all models\n"
      ],
      "metadata": {
        "id": "yKVWrKG43sn3"
      }
    },
    {
      "cell_type": "markdown",
      "source": [
        "**Data Cleaning**"
      ],
      "metadata": {
        "id": "WPYCG50r5Ux3"
      }
    },
    {
      "cell_type": "code",
      "source": [
        "# import all neccessary libraries for data reading, cleaning and EDA\n",
        "import pandas as pd \n",
        "import numpy as np\n",
        "import matplotlib.pyplot as plt\n",
        "import seaborn as sns\n",
        "import warnings \n",
        "warnings.filterwarnings('ignore')\n"
      ],
      "metadata": {
        "id": "hisRCcxT5Y7i"
      },
      "execution_count": 53,
      "outputs": []
    },
    {
      "cell_type": "code",
      "source": [
        "df=pd.read_csv('train 2.csv')               \n",
        "print('Shape of Raw dataset :', df.shape)   \n",
        "     "
      ],
      "metadata": {
        "colab": {
          "base_uri": "https://localhost:8080/"
        },
        "id": "MlGiDu496zsZ",
        "outputId": "79c7a5f3-e56a-49c0-8104-f461c4c52cd3"
      },
      "execution_count": 54,
      "outputs": [
        {
          "output_type": "stream",
          "name": "stdout",
          "text": [
            "Shape of Raw dataset : (913000, 4)\n"
          ]
        }
      ]
    },
    {
      "cell_type": "code",
      "source": [
        "df=df.drop_duplicates()\n",
        "print('Shape of  Dataframe after remove duplicates :',df.shape)"
      ],
      "metadata": {
        "colab": {
          "base_uri": "https://localhost:8080/"
        },
        "id": "LGEgsF6j70Jn",
        "outputId": "dba544d9-5f5b-4442-ca85-ef033d1fe541"
      },
      "execution_count": 55,
      "outputs": [
        {
          "output_type": "stream",
          "name": "stdout",
          "text": [
            "Shape of  Dataframe after remove duplicates : (913000, 4)\n"
          ]
        }
      ]
    },
    {
      "cell_type": "markdown",
      "source": [
        "**NO Duplicates are presents in the dataset**"
      ],
      "metadata": {
        "id": "sfvLBvpX84De"
      }
    },
    {
      "cell_type": "code",
      "source": [
        "df.isnull().sum()"
      ],
      "metadata": {
        "colab": {
          "base_uri": "https://localhost:8080/"
        },
        "id": "D3i_T5Mg86mR",
        "outputId": "f55331f4-a37f-4e08-8bb7-1879d4010000"
      },
      "execution_count": 56,
      "outputs": [
        {
          "output_type": "execute_result",
          "data": {
            "text/plain": [
              "date     0\n",
              "store    0\n",
              "item     0\n",
              "sales    0\n",
              "dtype: int64"
            ]
          },
          "metadata": {},
          "execution_count": 56
        }
      ]
    },
    {
      "cell_type": "code",
      "source": [
        "df.info()                              "
      ],
      "metadata": {
        "colab": {
          "base_uri": "https://localhost:8080/"
        },
        "id": "_nDJd26S9A33",
        "outputId": "5bb2bca1-ff4e-41d8-9d87-ff328849c793"
      },
      "execution_count": 57,
      "outputs": [
        {
          "output_type": "stream",
          "name": "stdout",
          "text": [
            "<class 'pandas.core.frame.DataFrame'>\n",
            "Int64Index: 913000 entries, 0 to 912999\n",
            "Data columns (total 4 columns):\n",
            " #   Column  Non-Null Count   Dtype \n",
            "---  ------  --------------   ----- \n",
            " 0   date    913000 non-null  object\n",
            " 1   store   913000 non-null  int64 \n",
            " 2   item    913000 non-null  int64 \n",
            " 3   sales   913000 non-null  int64 \n",
            "dtypes: int64(3), object(1)\n",
            "memory usage: 34.8+ MB\n"
          ]
        }
      ]
    },
    {
      "cell_type": "markdown",
      "source": [
        "**Datatype of date column is not meaningful.So it will change into \"datetime\" datatype.**"
      ],
      "metadata": {
        "id": "irlNGq8h9JM8"
      }
    },
    {
      "cell_type": "code",
      "source": [
        "df['date']=pd.to_datetime(df['date']) # change the datatype of date column\n",
        "df=df.sort_values(by=['date','item']) # dataset is changing into ascending order with respect to date\n",
        "df.head()"
      ],
      "metadata": {
        "colab": {
          "base_uri": "https://localhost:8080/",
          "height": 206
        },
        "id": "RagCn2-o9GpP",
        "outputId": "263fabcf-1bc1-4407-919f-45df37f36cc2"
      },
      "execution_count": 58,
      "outputs": [
        {
          "output_type": "execute_result",
          "data": {
            "text/plain": [
              "           date  store  item  sales\n",
              "0    2013-01-01      1     1     13\n",
              "1826 2013-01-01      2     1     12\n",
              "3652 2013-01-01      3     1     19\n",
              "5478 2013-01-01      4     1     10\n",
              "7304 2013-01-01      5     1     11"
            ],
            "text/html": [
              "\n",
              "  <div id=\"df-62b3b0d9-564f-47e3-8c78-b7213ead33d0\">\n",
              "    <div class=\"colab-df-container\">\n",
              "      <div>\n",
              "<style scoped>\n",
              "    .dataframe tbody tr th:only-of-type {\n",
              "        vertical-align: middle;\n",
              "    }\n",
              "\n",
              "    .dataframe tbody tr th {\n",
              "        vertical-align: top;\n",
              "    }\n",
              "\n",
              "    .dataframe thead th {\n",
              "        text-align: right;\n",
              "    }\n",
              "</style>\n",
              "<table border=\"1\" class=\"dataframe\">\n",
              "  <thead>\n",
              "    <tr style=\"text-align: right;\">\n",
              "      <th></th>\n",
              "      <th>date</th>\n",
              "      <th>store</th>\n",
              "      <th>item</th>\n",
              "      <th>sales</th>\n",
              "    </tr>\n",
              "  </thead>\n",
              "  <tbody>\n",
              "    <tr>\n",
              "      <th>0</th>\n",
              "      <td>2013-01-01</td>\n",
              "      <td>1</td>\n",
              "      <td>1</td>\n",
              "      <td>13</td>\n",
              "    </tr>\n",
              "    <tr>\n",
              "      <th>1826</th>\n",
              "      <td>2013-01-01</td>\n",
              "      <td>2</td>\n",
              "      <td>1</td>\n",
              "      <td>12</td>\n",
              "    </tr>\n",
              "    <tr>\n",
              "      <th>3652</th>\n",
              "      <td>2013-01-01</td>\n",
              "      <td>3</td>\n",
              "      <td>1</td>\n",
              "      <td>19</td>\n",
              "    </tr>\n",
              "    <tr>\n",
              "      <th>5478</th>\n",
              "      <td>2013-01-01</td>\n",
              "      <td>4</td>\n",
              "      <td>1</td>\n",
              "      <td>10</td>\n",
              "    </tr>\n",
              "    <tr>\n",
              "      <th>7304</th>\n",
              "      <td>2013-01-01</td>\n",
              "      <td>5</td>\n",
              "      <td>1</td>\n",
              "      <td>11</td>\n",
              "    </tr>\n",
              "  </tbody>\n",
              "</table>\n",
              "</div>\n",
              "      <button class=\"colab-df-convert\" onclick=\"convertToInteractive('df-62b3b0d9-564f-47e3-8c78-b7213ead33d0')\"\n",
              "              title=\"Convert this dataframe to an interactive table.\"\n",
              "              style=\"display:none;\">\n",
              "        \n",
              "  <svg xmlns=\"http://www.w3.org/2000/svg\" height=\"24px\"viewBox=\"0 0 24 24\"\n",
              "       width=\"24px\">\n",
              "    <path d=\"M0 0h24v24H0V0z\" fill=\"none\"/>\n",
              "    <path d=\"M18.56 5.44l.94 2.06.94-2.06 2.06-.94-2.06-.94-.94-2.06-.94 2.06-2.06.94zm-11 1L8.5 8.5l.94-2.06 2.06-.94-2.06-.94L8.5 2.5l-.94 2.06-2.06.94zm10 10l.94 2.06.94-2.06 2.06-.94-2.06-.94-.94-2.06-.94 2.06-2.06.94z\"/><path d=\"M17.41 7.96l-1.37-1.37c-.4-.4-.92-.59-1.43-.59-.52 0-1.04.2-1.43.59L10.3 9.45l-7.72 7.72c-.78.78-.78 2.05 0 2.83L4 21.41c.39.39.9.59 1.41.59.51 0 1.02-.2 1.41-.59l7.78-7.78 2.81-2.81c.8-.78.8-2.07 0-2.86zM5.41 20L4 18.59l7.72-7.72 1.47 1.35L5.41 20z\"/>\n",
              "  </svg>\n",
              "      </button>\n",
              "      \n",
              "  <style>\n",
              "    .colab-df-container {\n",
              "      display:flex;\n",
              "      flex-wrap:wrap;\n",
              "      gap: 12px;\n",
              "    }\n",
              "\n",
              "    .colab-df-convert {\n",
              "      background-color: #E8F0FE;\n",
              "      border: none;\n",
              "      border-radius: 50%;\n",
              "      cursor: pointer;\n",
              "      display: none;\n",
              "      fill: #1967D2;\n",
              "      height: 32px;\n",
              "      padding: 0 0 0 0;\n",
              "      width: 32px;\n",
              "    }\n",
              "\n",
              "    .colab-df-convert:hover {\n",
              "      background-color: #E2EBFA;\n",
              "      box-shadow: 0px 1px 2px rgba(60, 64, 67, 0.3), 0px 1px 3px 1px rgba(60, 64, 67, 0.15);\n",
              "      fill: #174EA6;\n",
              "    }\n",
              "\n",
              "    [theme=dark] .colab-df-convert {\n",
              "      background-color: #3B4455;\n",
              "      fill: #D2E3FC;\n",
              "    }\n",
              "\n",
              "    [theme=dark] .colab-df-convert:hover {\n",
              "      background-color: #434B5C;\n",
              "      box-shadow: 0px 1px 3px 1px rgba(0, 0, 0, 0.15);\n",
              "      filter: drop-shadow(0px 1px 2px rgba(0, 0, 0, 0.3));\n",
              "      fill: #FFFFFF;\n",
              "    }\n",
              "  </style>\n",
              "\n",
              "      <script>\n",
              "        const buttonEl =\n",
              "          document.querySelector('#df-62b3b0d9-564f-47e3-8c78-b7213ead33d0 button.colab-df-convert');\n",
              "        buttonEl.style.display =\n",
              "          google.colab.kernel.accessAllowed ? 'block' : 'none';\n",
              "\n",
              "        async function convertToInteractive(key) {\n",
              "          const element = document.querySelector('#df-62b3b0d9-564f-47e3-8c78-b7213ead33d0');\n",
              "          const dataTable =\n",
              "            await google.colab.kernel.invokeFunction('convertToInteractive',\n",
              "                                                     [key], {});\n",
              "          if (!dataTable) return;\n",
              "\n",
              "          const docLinkHtml = 'Like what you see? Visit the ' +\n",
              "            '<a target=\"_blank\" href=https://colab.research.google.com/notebooks/data_table.ipynb>data table notebook</a>'\n",
              "            + ' to learn more about interactive tables.';\n",
              "          element.innerHTML = '';\n",
              "          dataTable['output_type'] = 'display_data';\n",
              "          await google.colab.output.renderOutput(dataTable, element);\n",
              "          const docLink = document.createElement('div');\n",
              "          docLink.innerHTML = docLinkHtml;\n",
              "          element.appendChild(docLink);\n",
              "        }\n",
              "      </script>\n",
              "    </div>\n",
              "  </div>\n",
              "  "
            ]
          },
          "metadata": {},
          "execution_count": 58
        }
      ]
    },
    {
      "cell_type": "code",
      "source": [
        "df.describe()"
      ],
      "metadata": {
        "colab": {
          "base_uri": "https://localhost:8080/",
          "height": 300
        },
        "id": "DumWfQKb9Ryt",
        "outputId": "a41beb03-b1af-4906-d8b9-73d8e03bec50"
      },
      "execution_count": 59,
      "outputs": [
        {
          "output_type": "execute_result",
          "data": {
            "text/plain": [
              "               store           item          sales\n",
              "count  913000.000000  913000.000000  913000.000000\n",
              "mean        5.500000      25.500000      52.250287\n",
              "std         2.872283      14.430878      28.801144\n",
              "min         1.000000       1.000000       0.000000\n",
              "25%         3.000000      13.000000      30.000000\n",
              "50%         5.500000      25.500000      47.000000\n",
              "75%         8.000000      38.000000      70.000000\n",
              "max        10.000000      50.000000     231.000000"
            ],
            "text/html": [
              "\n",
              "  <div id=\"df-39f226d0-8205-4520-85b7-762dada5cda0\">\n",
              "    <div class=\"colab-df-container\">\n",
              "      <div>\n",
              "<style scoped>\n",
              "    .dataframe tbody tr th:only-of-type {\n",
              "        vertical-align: middle;\n",
              "    }\n",
              "\n",
              "    .dataframe tbody tr th {\n",
              "        vertical-align: top;\n",
              "    }\n",
              "\n",
              "    .dataframe thead th {\n",
              "        text-align: right;\n",
              "    }\n",
              "</style>\n",
              "<table border=\"1\" class=\"dataframe\">\n",
              "  <thead>\n",
              "    <tr style=\"text-align: right;\">\n",
              "      <th></th>\n",
              "      <th>store</th>\n",
              "      <th>item</th>\n",
              "      <th>sales</th>\n",
              "    </tr>\n",
              "  </thead>\n",
              "  <tbody>\n",
              "    <tr>\n",
              "      <th>count</th>\n",
              "      <td>913000.000000</td>\n",
              "      <td>913000.000000</td>\n",
              "      <td>913000.000000</td>\n",
              "    </tr>\n",
              "    <tr>\n",
              "      <th>mean</th>\n",
              "      <td>5.500000</td>\n",
              "      <td>25.500000</td>\n",
              "      <td>52.250287</td>\n",
              "    </tr>\n",
              "    <tr>\n",
              "      <th>std</th>\n",
              "      <td>2.872283</td>\n",
              "      <td>14.430878</td>\n",
              "      <td>28.801144</td>\n",
              "    </tr>\n",
              "    <tr>\n",
              "      <th>min</th>\n",
              "      <td>1.000000</td>\n",
              "      <td>1.000000</td>\n",
              "      <td>0.000000</td>\n",
              "    </tr>\n",
              "    <tr>\n",
              "      <th>25%</th>\n",
              "      <td>3.000000</td>\n",
              "      <td>13.000000</td>\n",
              "      <td>30.000000</td>\n",
              "    </tr>\n",
              "    <tr>\n",
              "      <th>50%</th>\n",
              "      <td>5.500000</td>\n",
              "      <td>25.500000</td>\n",
              "      <td>47.000000</td>\n",
              "    </tr>\n",
              "    <tr>\n",
              "      <th>75%</th>\n",
              "      <td>8.000000</td>\n",
              "      <td>38.000000</td>\n",
              "      <td>70.000000</td>\n",
              "    </tr>\n",
              "    <tr>\n",
              "      <th>max</th>\n",
              "      <td>10.000000</td>\n",
              "      <td>50.000000</td>\n",
              "      <td>231.000000</td>\n",
              "    </tr>\n",
              "  </tbody>\n",
              "</table>\n",
              "</div>\n",
              "      <button class=\"colab-df-convert\" onclick=\"convertToInteractive('df-39f226d0-8205-4520-85b7-762dada5cda0')\"\n",
              "              title=\"Convert this dataframe to an interactive table.\"\n",
              "              style=\"display:none;\">\n",
              "        \n",
              "  <svg xmlns=\"http://www.w3.org/2000/svg\" height=\"24px\"viewBox=\"0 0 24 24\"\n",
              "       width=\"24px\">\n",
              "    <path d=\"M0 0h24v24H0V0z\" fill=\"none\"/>\n",
              "    <path d=\"M18.56 5.44l.94 2.06.94-2.06 2.06-.94-2.06-.94-.94-2.06-.94 2.06-2.06.94zm-11 1L8.5 8.5l.94-2.06 2.06-.94-2.06-.94L8.5 2.5l-.94 2.06-2.06.94zm10 10l.94 2.06.94-2.06 2.06-.94-2.06-.94-.94-2.06-.94 2.06-2.06.94z\"/><path d=\"M17.41 7.96l-1.37-1.37c-.4-.4-.92-.59-1.43-.59-.52 0-1.04.2-1.43.59L10.3 9.45l-7.72 7.72c-.78.78-.78 2.05 0 2.83L4 21.41c.39.39.9.59 1.41.59.51 0 1.02-.2 1.41-.59l7.78-7.78 2.81-2.81c.8-.78.8-2.07 0-2.86zM5.41 20L4 18.59l7.72-7.72 1.47 1.35L5.41 20z\"/>\n",
              "  </svg>\n",
              "      </button>\n",
              "      \n",
              "  <style>\n",
              "    .colab-df-container {\n",
              "      display:flex;\n",
              "      flex-wrap:wrap;\n",
              "      gap: 12px;\n",
              "    }\n",
              "\n",
              "    .colab-df-convert {\n",
              "      background-color: #E8F0FE;\n",
              "      border: none;\n",
              "      border-radius: 50%;\n",
              "      cursor: pointer;\n",
              "      display: none;\n",
              "      fill: #1967D2;\n",
              "      height: 32px;\n",
              "      padding: 0 0 0 0;\n",
              "      width: 32px;\n",
              "    }\n",
              "\n",
              "    .colab-df-convert:hover {\n",
              "      background-color: #E2EBFA;\n",
              "      box-shadow: 0px 1px 2px rgba(60, 64, 67, 0.3), 0px 1px 3px 1px rgba(60, 64, 67, 0.15);\n",
              "      fill: #174EA6;\n",
              "    }\n",
              "\n",
              "    [theme=dark] .colab-df-convert {\n",
              "      background-color: #3B4455;\n",
              "      fill: #D2E3FC;\n",
              "    }\n",
              "\n",
              "    [theme=dark] .colab-df-convert:hover {\n",
              "      background-color: #434B5C;\n",
              "      box-shadow: 0px 1px 3px 1px rgba(0, 0, 0, 0.15);\n",
              "      filter: drop-shadow(0px 1px 2px rgba(0, 0, 0, 0.3));\n",
              "      fill: #FFFFFF;\n",
              "    }\n",
              "  </style>\n",
              "\n",
              "      <script>\n",
              "        const buttonEl =\n",
              "          document.querySelector('#df-39f226d0-8205-4520-85b7-762dada5cda0 button.colab-df-convert');\n",
              "        buttonEl.style.display =\n",
              "          google.colab.kernel.accessAllowed ? 'block' : 'none';\n",
              "\n",
              "        async function convertToInteractive(key) {\n",
              "          const element = document.querySelector('#df-39f226d0-8205-4520-85b7-762dada5cda0');\n",
              "          const dataTable =\n",
              "            await google.colab.kernel.invokeFunction('convertToInteractive',\n",
              "                                                     [key], {});\n",
              "          if (!dataTable) return;\n",
              "\n",
              "          const docLinkHtml = 'Like what you see? Visit the ' +\n",
              "            '<a target=\"_blank\" href=https://colab.research.google.com/notebooks/data_table.ipynb>data table notebook</a>'\n",
              "            + ' to learn more about interactive tables.';\n",
              "          element.innerHTML = '';\n",
              "          dataTable['output_type'] = 'display_data';\n",
              "          await google.colab.output.renderOutput(dataTable, element);\n",
              "          const docLink = document.createElement('div');\n",
              "          docLink.innerHTML = docLinkHtml;\n",
              "          element.appendChild(docLink);\n",
              "        }\n",
              "      </script>\n",
              "    </div>\n",
              "  </div>\n",
              "  "
            ]
          },
          "metadata": {},
          "execution_count": 59
        }
      ]
    },
    {
      "cell_type": "code",
      "source": [
        "#df=df.drop('store',axis=1)"
      ],
      "metadata": {
        "id": "Ueg8sucD9UMv"
      },
      "execution_count": 60,
      "outputs": []
    },
    {
      "cell_type": "code",
      "source": [
        "df=pd.DataFrame(df.groupby(['date','item'])['sales'].sum())\n",
        "df.reset_index(inplace=True)\n",
        "df"
      ],
      "metadata": {
        "colab": {
          "base_uri": "https://localhost:8080/",
          "height": 423
        },
        "id": "8XdzT3J49Yqe",
        "outputId": "c4b6952f-89bb-43ce-c31a-a80d2aeadcbc"
      },
      "execution_count": 61,
      "outputs": [
        {
          "output_type": "execute_result",
          "data": {
            "text/plain": [
              "            date  item  sales\n",
              "0     2013-01-01     1    133\n",
              "1     2013-01-01     2    327\n",
              "2     2013-01-01     3    172\n",
              "3     2013-01-01     4    102\n",
              "4     2013-01-01     5     83\n",
              "...          ...   ...    ...\n",
              "91295 2017-12-31    46    605\n",
              "91296 2017-12-31    47    211\n",
              "91297 2017-12-31    48    494\n",
              "91298 2017-12-31    49    285\n",
              "91299 2017-12-31    50    626\n",
              "\n",
              "[91300 rows x 3 columns]"
            ],
            "text/html": [
              "\n",
              "  <div id=\"df-0a7e4504-026c-42c9-98fe-f7ecfb85080d\">\n",
              "    <div class=\"colab-df-container\">\n",
              "      <div>\n",
              "<style scoped>\n",
              "    .dataframe tbody tr th:only-of-type {\n",
              "        vertical-align: middle;\n",
              "    }\n",
              "\n",
              "    .dataframe tbody tr th {\n",
              "        vertical-align: top;\n",
              "    }\n",
              "\n",
              "    .dataframe thead th {\n",
              "        text-align: right;\n",
              "    }\n",
              "</style>\n",
              "<table border=\"1\" class=\"dataframe\">\n",
              "  <thead>\n",
              "    <tr style=\"text-align: right;\">\n",
              "      <th></th>\n",
              "      <th>date</th>\n",
              "      <th>item</th>\n",
              "      <th>sales</th>\n",
              "    </tr>\n",
              "  </thead>\n",
              "  <tbody>\n",
              "    <tr>\n",
              "      <th>0</th>\n",
              "      <td>2013-01-01</td>\n",
              "      <td>1</td>\n",
              "      <td>133</td>\n",
              "    </tr>\n",
              "    <tr>\n",
              "      <th>1</th>\n",
              "      <td>2013-01-01</td>\n",
              "      <td>2</td>\n",
              "      <td>327</td>\n",
              "    </tr>\n",
              "    <tr>\n",
              "      <th>2</th>\n",
              "      <td>2013-01-01</td>\n",
              "      <td>3</td>\n",
              "      <td>172</td>\n",
              "    </tr>\n",
              "    <tr>\n",
              "      <th>3</th>\n",
              "      <td>2013-01-01</td>\n",
              "      <td>4</td>\n",
              "      <td>102</td>\n",
              "    </tr>\n",
              "    <tr>\n",
              "      <th>4</th>\n",
              "      <td>2013-01-01</td>\n",
              "      <td>5</td>\n",
              "      <td>83</td>\n",
              "    </tr>\n",
              "    <tr>\n",
              "      <th>...</th>\n",
              "      <td>...</td>\n",
              "      <td>...</td>\n",
              "      <td>...</td>\n",
              "    </tr>\n",
              "    <tr>\n",
              "      <th>91295</th>\n",
              "      <td>2017-12-31</td>\n",
              "      <td>46</td>\n",
              "      <td>605</td>\n",
              "    </tr>\n",
              "    <tr>\n",
              "      <th>91296</th>\n",
              "      <td>2017-12-31</td>\n",
              "      <td>47</td>\n",
              "      <td>211</td>\n",
              "    </tr>\n",
              "    <tr>\n",
              "      <th>91297</th>\n",
              "      <td>2017-12-31</td>\n",
              "      <td>48</td>\n",
              "      <td>494</td>\n",
              "    </tr>\n",
              "    <tr>\n",
              "      <th>91298</th>\n",
              "      <td>2017-12-31</td>\n",
              "      <td>49</td>\n",
              "      <td>285</td>\n",
              "    </tr>\n",
              "    <tr>\n",
              "      <th>91299</th>\n",
              "      <td>2017-12-31</td>\n",
              "      <td>50</td>\n",
              "      <td>626</td>\n",
              "    </tr>\n",
              "  </tbody>\n",
              "</table>\n",
              "<p>91300 rows × 3 columns</p>\n",
              "</div>\n",
              "      <button class=\"colab-df-convert\" onclick=\"convertToInteractive('df-0a7e4504-026c-42c9-98fe-f7ecfb85080d')\"\n",
              "              title=\"Convert this dataframe to an interactive table.\"\n",
              "              style=\"display:none;\">\n",
              "        \n",
              "  <svg xmlns=\"http://www.w3.org/2000/svg\" height=\"24px\"viewBox=\"0 0 24 24\"\n",
              "       width=\"24px\">\n",
              "    <path d=\"M0 0h24v24H0V0z\" fill=\"none\"/>\n",
              "    <path d=\"M18.56 5.44l.94 2.06.94-2.06 2.06-.94-2.06-.94-.94-2.06-.94 2.06-2.06.94zm-11 1L8.5 8.5l.94-2.06 2.06-.94-2.06-.94L8.5 2.5l-.94 2.06-2.06.94zm10 10l.94 2.06.94-2.06 2.06-.94-2.06-.94-.94-2.06-.94 2.06-2.06.94z\"/><path d=\"M17.41 7.96l-1.37-1.37c-.4-.4-.92-.59-1.43-.59-.52 0-1.04.2-1.43.59L10.3 9.45l-7.72 7.72c-.78.78-.78 2.05 0 2.83L4 21.41c.39.39.9.59 1.41.59.51 0 1.02-.2 1.41-.59l7.78-7.78 2.81-2.81c.8-.78.8-2.07 0-2.86zM5.41 20L4 18.59l7.72-7.72 1.47 1.35L5.41 20z\"/>\n",
              "  </svg>\n",
              "      </button>\n",
              "      \n",
              "  <style>\n",
              "    .colab-df-container {\n",
              "      display:flex;\n",
              "      flex-wrap:wrap;\n",
              "      gap: 12px;\n",
              "    }\n",
              "\n",
              "    .colab-df-convert {\n",
              "      background-color: #E8F0FE;\n",
              "      border: none;\n",
              "      border-radius: 50%;\n",
              "      cursor: pointer;\n",
              "      display: none;\n",
              "      fill: #1967D2;\n",
              "      height: 32px;\n",
              "      padding: 0 0 0 0;\n",
              "      width: 32px;\n",
              "    }\n",
              "\n",
              "    .colab-df-convert:hover {\n",
              "      background-color: #E2EBFA;\n",
              "      box-shadow: 0px 1px 2px rgba(60, 64, 67, 0.3), 0px 1px 3px 1px rgba(60, 64, 67, 0.15);\n",
              "      fill: #174EA6;\n",
              "    }\n",
              "\n",
              "    [theme=dark] .colab-df-convert {\n",
              "      background-color: #3B4455;\n",
              "      fill: #D2E3FC;\n",
              "    }\n",
              "\n",
              "    [theme=dark] .colab-df-convert:hover {\n",
              "      background-color: #434B5C;\n",
              "      box-shadow: 0px 1px 3px 1px rgba(0, 0, 0, 0.15);\n",
              "      filter: drop-shadow(0px 1px 2px rgba(0, 0, 0, 0.3));\n",
              "      fill: #FFFFFF;\n",
              "    }\n",
              "  </style>\n",
              "\n",
              "      <script>\n",
              "        const buttonEl =\n",
              "          document.querySelector('#df-0a7e4504-026c-42c9-98fe-f7ecfb85080d button.colab-df-convert');\n",
              "        buttonEl.style.display =\n",
              "          google.colab.kernel.accessAllowed ? 'block' : 'none';\n",
              "\n",
              "        async function convertToInteractive(key) {\n",
              "          const element = document.querySelector('#df-0a7e4504-026c-42c9-98fe-f7ecfb85080d');\n",
              "          const dataTable =\n",
              "            await google.colab.kernel.invokeFunction('convertToInteractive',\n",
              "                                                     [key], {});\n",
              "          if (!dataTable) return;\n",
              "\n",
              "          const docLinkHtml = 'Like what you see? Visit the ' +\n",
              "            '<a target=\"_blank\" href=https://colab.research.google.com/notebooks/data_table.ipynb>data table notebook</a>'\n",
              "            + ' to learn more about interactive tables.';\n",
              "          element.innerHTML = '';\n",
              "          dataTable['output_type'] = 'display_data';\n",
              "          await google.colab.output.renderOutput(dataTable, element);\n",
              "          const docLink = document.createElement('div');\n",
              "          docLink.innerHTML = docLinkHtml;\n",
              "          element.appendChild(docLink);\n",
              "        }\n",
              "      </script>\n",
              "    </div>\n",
              "  </div>\n",
              "  "
            ]
          },
          "metadata": {},
          "execution_count": 61
        }
      ]
    },
    {
      "cell_type": "code",
      "source": [
        "df['end_date']=df['date']+pd.DateOffset(months=+3)"
      ],
      "metadata": {
        "id": "MkMuG4cV9bSv"
      },
      "execution_count": 62,
      "outputs": []
    },
    {
      "cell_type": "code",
      "source": [
        "df['duration']=(df['end_date']-df['date']).dt.days\n",
        "df"
      ],
      "metadata": {
        "colab": {
          "base_uri": "https://localhost:8080/",
          "height": 423
        },
        "id": "VMnvC4R_9e8K",
        "outputId": "e1cddd88-9f17-4d3f-a59f-1e0e316f0fd1"
      },
      "execution_count": 63,
      "outputs": [
        {
          "output_type": "execute_result",
          "data": {
            "text/plain": [
              "            date  item  sales   end_date  duration\n",
              "0     2013-01-01     1    133 2013-04-01        90\n",
              "1     2013-01-01     2    327 2013-04-01        90\n",
              "2     2013-01-01     3    172 2013-04-01        90\n",
              "3     2013-01-01     4    102 2013-04-01        90\n",
              "4     2013-01-01     5     83 2013-04-01        90\n",
              "...          ...   ...    ...        ...       ...\n",
              "91295 2017-12-31    46    605 2018-03-31        90\n",
              "91296 2017-12-31    47    211 2018-03-31        90\n",
              "91297 2017-12-31    48    494 2018-03-31        90\n",
              "91298 2017-12-31    49    285 2018-03-31        90\n",
              "91299 2017-12-31    50    626 2018-03-31        90\n",
              "\n",
              "[91300 rows x 5 columns]"
            ],
            "text/html": [
              "\n",
              "  <div id=\"df-4d95b452-2836-43e6-92c8-71651e1ce8f2\">\n",
              "    <div class=\"colab-df-container\">\n",
              "      <div>\n",
              "<style scoped>\n",
              "    .dataframe tbody tr th:only-of-type {\n",
              "        vertical-align: middle;\n",
              "    }\n",
              "\n",
              "    .dataframe tbody tr th {\n",
              "        vertical-align: top;\n",
              "    }\n",
              "\n",
              "    .dataframe thead th {\n",
              "        text-align: right;\n",
              "    }\n",
              "</style>\n",
              "<table border=\"1\" class=\"dataframe\">\n",
              "  <thead>\n",
              "    <tr style=\"text-align: right;\">\n",
              "      <th></th>\n",
              "      <th>date</th>\n",
              "      <th>item</th>\n",
              "      <th>sales</th>\n",
              "      <th>end_date</th>\n",
              "      <th>duration</th>\n",
              "    </tr>\n",
              "  </thead>\n",
              "  <tbody>\n",
              "    <tr>\n",
              "      <th>0</th>\n",
              "      <td>2013-01-01</td>\n",
              "      <td>1</td>\n",
              "      <td>133</td>\n",
              "      <td>2013-04-01</td>\n",
              "      <td>90</td>\n",
              "    </tr>\n",
              "    <tr>\n",
              "      <th>1</th>\n",
              "      <td>2013-01-01</td>\n",
              "      <td>2</td>\n",
              "      <td>327</td>\n",
              "      <td>2013-04-01</td>\n",
              "      <td>90</td>\n",
              "    </tr>\n",
              "    <tr>\n",
              "      <th>2</th>\n",
              "      <td>2013-01-01</td>\n",
              "      <td>3</td>\n",
              "      <td>172</td>\n",
              "      <td>2013-04-01</td>\n",
              "      <td>90</td>\n",
              "    </tr>\n",
              "    <tr>\n",
              "      <th>3</th>\n",
              "      <td>2013-01-01</td>\n",
              "      <td>4</td>\n",
              "      <td>102</td>\n",
              "      <td>2013-04-01</td>\n",
              "      <td>90</td>\n",
              "    </tr>\n",
              "    <tr>\n",
              "      <th>4</th>\n",
              "      <td>2013-01-01</td>\n",
              "      <td>5</td>\n",
              "      <td>83</td>\n",
              "      <td>2013-04-01</td>\n",
              "      <td>90</td>\n",
              "    </tr>\n",
              "    <tr>\n",
              "      <th>...</th>\n",
              "      <td>...</td>\n",
              "      <td>...</td>\n",
              "      <td>...</td>\n",
              "      <td>...</td>\n",
              "      <td>...</td>\n",
              "    </tr>\n",
              "    <tr>\n",
              "      <th>91295</th>\n",
              "      <td>2017-12-31</td>\n",
              "      <td>46</td>\n",
              "      <td>605</td>\n",
              "      <td>2018-03-31</td>\n",
              "      <td>90</td>\n",
              "    </tr>\n",
              "    <tr>\n",
              "      <th>91296</th>\n",
              "      <td>2017-12-31</td>\n",
              "      <td>47</td>\n",
              "      <td>211</td>\n",
              "      <td>2018-03-31</td>\n",
              "      <td>90</td>\n",
              "    </tr>\n",
              "    <tr>\n",
              "      <th>91297</th>\n",
              "      <td>2017-12-31</td>\n",
              "      <td>48</td>\n",
              "      <td>494</td>\n",
              "      <td>2018-03-31</td>\n",
              "      <td>90</td>\n",
              "    </tr>\n",
              "    <tr>\n",
              "      <th>91298</th>\n",
              "      <td>2017-12-31</td>\n",
              "      <td>49</td>\n",
              "      <td>285</td>\n",
              "      <td>2018-03-31</td>\n",
              "      <td>90</td>\n",
              "    </tr>\n",
              "    <tr>\n",
              "      <th>91299</th>\n",
              "      <td>2017-12-31</td>\n",
              "      <td>50</td>\n",
              "      <td>626</td>\n",
              "      <td>2018-03-31</td>\n",
              "      <td>90</td>\n",
              "    </tr>\n",
              "  </tbody>\n",
              "</table>\n",
              "<p>91300 rows × 5 columns</p>\n",
              "</div>\n",
              "      <button class=\"colab-df-convert\" onclick=\"convertToInteractive('df-4d95b452-2836-43e6-92c8-71651e1ce8f2')\"\n",
              "              title=\"Convert this dataframe to an interactive table.\"\n",
              "              style=\"display:none;\">\n",
              "        \n",
              "  <svg xmlns=\"http://www.w3.org/2000/svg\" height=\"24px\"viewBox=\"0 0 24 24\"\n",
              "       width=\"24px\">\n",
              "    <path d=\"M0 0h24v24H0V0z\" fill=\"none\"/>\n",
              "    <path d=\"M18.56 5.44l.94 2.06.94-2.06 2.06-.94-2.06-.94-.94-2.06-.94 2.06-2.06.94zm-11 1L8.5 8.5l.94-2.06 2.06-.94-2.06-.94L8.5 2.5l-.94 2.06-2.06.94zm10 10l.94 2.06.94-2.06 2.06-.94-2.06-.94-.94-2.06-.94 2.06-2.06.94z\"/><path d=\"M17.41 7.96l-1.37-1.37c-.4-.4-.92-.59-1.43-.59-.52 0-1.04.2-1.43.59L10.3 9.45l-7.72 7.72c-.78.78-.78 2.05 0 2.83L4 21.41c.39.39.9.59 1.41.59.51 0 1.02-.2 1.41-.59l7.78-7.78 2.81-2.81c.8-.78.8-2.07 0-2.86zM5.41 20L4 18.59l7.72-7.72 1.47 1.35L5.41 20z\"/>\n",
              "  </svg>\n",
              "      </button>\n",
              "      \n",
              "  <style>\n",
              "    .colab-df-container {\n",
              "      display:flex;\n",
              "      flex-wrap:wrap;\n",
              "      gap: 12px;\n",
              "    }\n",
              "\n",
              "    .colab-df-convert {\n",
              "      background-color: #E8F0FE;\n",
              "      border: none;\n",
              "      border-radius: 50%;\n",
              "      cursor: pointer;\n",
              "      display: none;\n",
              "      fill: #1967D2;\n",
              "      height: 32px;\n",
              "      padding: 0 0 0 0;\n",
              "      width: 32px;\n",
              "    }\n",
              "\n",
              "    .colab-df-convert:hover {\n",
              "      background-color: #E2EBFA;\n",
              "      box-shadow: 0px 1px 2px rgba(60, 64, 67, 0.3), 0px 1px 3px 1px rgba(60, 64, 67, 0.15);\n",
              "      fill: #174EA6;\n",
              "    }\n",
              "\n",
              "    [theme=dark] .colab-df-convert {\n",
              "      background-color: #3B4455;\n",
              "      fill: #D2E3FC;\n",
              "    }\n",
              "\n",
              "    [theme=dark] .colab-df-convert:hover {\n",
              "      background-color: #434B5C;\n",
              "      box-shadow: 0px 1px 3px 1px rgba(0, 0, 0, 0.15);\n",
              "      filter: drop-shadow(0px 1px 2px rgba(0, 0, 0, 0.3));\n",
              "      fill: #FFFFFF;\n",
              "    }\n",
              "  </style>\n",
              "\n",
              "      <script>\n",
              "        const buttonEl =\n",
              "          document.querySelector('#df-4d95b452-2836-43e6-92c8-71651e1ce8f2 button.colab-df-convert');\n",
              "        buttonEl.style.display =\n",
              "          google.colab.kernel.accessAllowed ? 'block' : 'none';\n",
              "\n",
              "        async function convertToInteractive(key) {\n",
              "          const element = document.querySelector('#df-4d95b452-2836-43e6-92c8-71651e1ce8f2');\n",
              "          const dataTable =\n",
              "            await google.colab.kernel.invokeFunction('convertToInteractive',\n",
              "                                                     [key], {});\n",
              "          if (!dataTable) return;\n",
              "\n",
              "          const docLinkHtml = 'Like what you see? Visit the ' +\n",
              "            '<a target=\"_blank\" href=https://colab.research.google.com/notebooks/data_table.ipynb>data table notebook</a>'\n",
              "            + ' to learn more about interactive tables.';\n",
              "          element.innerHTML = '';\n",
              "          dataTable['output_type'] = 'display_data';\n",
              "          await google.colab.output.renderOutput(dataTable, element);\n",
              "          const docLink = document.createElement('div');\n",
              "          docLink.innerHTML = docLinkHtml;\n",
              "          element.appendChild(docLink);\n",
              "        }\n",
              "      </script>\n",
              "    </div>\n",
              "  </div>\n",
              "  "
            ]
          },
          "metadata": {},
          "execution_count": 63
        }
      ]
    },
    {
      "cell_type": "code",
      "source": [
        "items_df=[]                                     # A whole dataframe split into multiple dataframe with respect to items\n",
        "for i in range(1,51):\n",
        "  items_df.append(df.loc[df['item']==i])\n",
        "items_df[1]                                     # Every item have unique dataframe\n",
        "  "
      ],
      "metadata": {
        "colab": {
          "base_uri": "https://localhost:8080/",
          "height": 423
        },
        "id": "BVivrPcn9i9L",
        "outputId": "db21270a-40af-4eb6-c5f3-042067d23ffa"
      },
      "execution_count": 64,
      "outputs": [
        {
          "output_type": "execute_result",
          "data": {
            "text/plain": [
              "            date  item  sales   end_date  duration\n",
              "1     2013-01-01     2    327 2013-04-01        90\n",
              "51    2013-01-02     2    279 2013-04-02        90\n",
              "101   2013-01-03     2    304 2013-04-03        90\n",
              "151   2013-01-04     2    359 2013-04-04        90\n",
              "201   2013-01-05     2    377 2013-04-05        90\n",
              "...          ...   ...    ...        ...       ...\n",
              "91051 2017-12-27     2    500 2018-03-27        90\n",
              "91101 2017-12-28     2    495 2018-03-28        90\n",
              "91151 2017-12-29     2    515 2018-03-29        90\n",
              "91201 2017-12-30     2    538 2018-03-30        90\n",
              "91251 2017-12-31     2    634 2018-03-31        90\n",
              "\n",
              "[1826 rows x 5 columns]"
            ],
            "text/html": [
              "\n",
              "  <div id=\"df-48a8a08a-ca74-4980-a9b8-2d4712a651c6\">\n",
              "    <div class=\"colab-df-container\">\n",
              "      <div>\n",
              "<style scoped>\n",
              "    .dataframe tbody tr th:only-of-type {\n",
              "        vertical-align: middle;\n",
              "    }\n",
              "\n",
              "    .dataframe tbody tr th {\n",
              "        vertical-align: top;\n",
              "    }\n",
              "\n",
              "    .dataframe thead th {\n",
              "        text-align: right;\n",
              "    }\n",
              "</style>\n",
              "<table border=\"1\" class=\"dataframe\">\n",
              "  <thead>\n",
              "    <tr style=\"text-align: right;\">\n",
              "      <th></th>\n",
              "      <th>date</th>\n",
              "      <th>item</th>\n",
              "      <th>sales</th>\n",
              "      <th>end_date</th>\n",
              "      <th>duration</th>\n",
              "    </tr>\n",
              "  </thead>\n",
              "  <tbody>\n",
              "    <tr>\n",
              "      <th>1</th>\n",
              "      <td>2013-01-01</td>\n",
              "      <td>2</td>\n",
              "      <td>327</td>\n",
              "      <td>2013-04-01</td>\n",
              "      <td>90</td>\n",
              "    </tr>\n",
              "    <tr>\n",
              "      <th>51</th>\n",
              "      <td>2013-01-02</td>\n",
              "      <td>2</td>\n",
              "      <td>279</td>\n",
              "      <td>2013-04-02</td>\n",
              "      <td>90</td>\n",
              "    </tr>\n",
              "    <tr>\n",
              "      <th>101</th>\n",
              "      <td>2013-01-03</td>\n",
              "      <td>2</td>\n",
              "      <td>304</td>\n",
              "      <td>2013-04-03</td>\n",
              "      <td>90</td>\n",
              "    </tr>\n",
              "    <tr>\n",
              "      <th>151</th>\n",
              "      <td>2013-01-04</td>\n",
              "      <td>2</td>\n",
              "      <td>359</td>\n",
              "      <td>2013-04-04</td>\n",
              "      <td>90</td>\n",
              "    </tr>\n",
              "    <tr>\n",
              "      <th>201</th>\n",
              "      <td>2013-01-05</td>\n",
              "      <td>2</td>\n",
              "      <td>377</td>\n",
              "      <td>2013-04-05</td>\n",
              "      <td>90</td>\n",
              "    </tr>\n",
              "    <tr>\n",
              "      <th>...</th>\n",
              "      <td>...</td>\n",
              "      <td>...</td>\n",
              "      <td>...</td>\n",
              "      <td>...</td>\n",
              "      <td>...</td>\n",
              "    </tr>\n",
              "    <tr>\n",
              "      <th>91051</th>\n",
              "      <td>2017-12-27</td>\n",
              "      <td>2</td>\n",
              "      <td>500</td>\n",
              "      <td>2018-03-27</td>\n",
              "      <td>90</td>\n",
              "    </tr>\n",
              "    <tr>\n",
              "      <th>91101</th>\n",
              "      <td>2017-12-28</td>\n",
              "      <td>2</td>\n",
              "      <td>495</td>\n",
              "      <td>2018-03-28</td>\n",
              "      <td>90</td>\n",
              "    </tr>\n",
              "    <tr>\n",
              "      <th>91151</th>\n",
              "      <td>2017-12-29</td>\n",
              "      <td>2</td>\n",
              "      <td>515</td>\n",
              "      <td>2018-03-29</td>\n",
              "      <td>90</td>\n",
              "    </tr>\n",
              "    <tr>\n",
              "      <th>91201</th>\n",
              "      <td>2017-12-30</td>\n",
              "      <td>2</td>\n",
              "      <td>538</td>\n",
              "      <td>2018-03-30</td>\n",
              "      <td>90</td>\n",
              "    </tr>\n",
              "    <tr>\n",
              "      <th>91251</th>\n",
              "      <td>2017-12-31</td>\n",
              "      <td>2</td>\n",
              "      <td>634</td>\n",
              "      <td>2018-03-31</td>\n",
              "      <td>90</td>\n",
              "    </tr>\n",
              "  </tbody>\n",
              "</table>\n",
              "<p>1826 rows × 5 columns</p>\n",
              "</div>\n",
              "      <button class=\"colab-df-convert\" onclick=\"convertToInteractive('df-48a8a08a-ca74-4980-a9b8-2d4712a651c6')\"\n",
              "              title=\"Convert this dataframe to an interactive table.\"\n",
              "              style=\"display:none;\">\n",
              "        \n",
              "  <svg xmlns=\"http://www.w3.org/2000/svg\" height=\"24px\"viewBox=\"0 0 24 24\"\n",
              "       width=\"24px\">\n",
              "    <path d=\"M0 0h24v24H0V0z\" fill=\"none\"/>\n",
              "    <path d=\"M18.56 5.44l.94 2.06.94-2.06 2.06-.94-2.06-.94-.94-2.06-.94 2.06-2.06.94zm-11 1L8.5 8.5l.94-2.06 2.06-.94-2.06-.94L8.5 2.5l-.94 2.06-2.06.94zm10 10l.94 2.06.94-2.06 2.06-.94-2.06-.94-.94-2.06-.94 2.06-2.06.94z\"/><path d=\"M17.41 7.96l-1.37-1.37c-.4-.4-.92-.59-1.43-.59-.52 0-1.04.2-1.43.59L10.3 9.45l-7.72 7.72c-.78.78-.78 2.05 0 2.83L4 21.41c.39.39.9.59 1.41.59.51 0 1.02-.2 1.41-.59l7.78-7.78 2.81-2.81c.8-.78.8-2.07 0-2.86zM5.41 20L4 18.59l7.72-7.72 1.47 1.35L5.41 20z\"/>\n",
              "  </svg>\n",
              "      </button>\n",
              "      \n",
              "  <style>\n",
              "    .colab-df-container {\n",
              "      display:flex;\n",
              "      flex-wrap:wrap;\n",
              "      gap: 12px;\n",
              "    }\n",
              "\n",
              "    .colab-df-convert {\n",
              "      background-color: #E8F0FE;\n",
              "      border: none;\n",
              "      border-radius: 50%;\n",
              "      cursor: pointer;\n",
              "      display: none;\n",
              "      fill: #1967D2;\n",
              "      height: 32px;\n",
              "      padding: 0 0 0 0;\n",
              "      width: 32px;\n",
              "    }\n",
              "\n",
              "    .colab-df-convert:hover {\n",
              "      background-color: #E2EBFA;\n",
              "      box-shadow: 0px 1px 2px rgba(60, 64, 67, 0.3), 0px 1px 3px 1px rgba(60, 64, 67, 0.15);\n",
              "      fill: #174EA6;\n",
              "    }\n",
              "\n",
              "    [theme=dark] .colab-df-convert {\n",
              "      background-color: #3B4455;\n",
              "      fill: #D2E3FC;\n",
              "    }\n",
              "\n",
              "    [theme=dark] .colab-df-convert:hover {\n",
              "      background-color: #434B5C;\n",
              "      box-shadow: 0px 1px 3px 1px rgba(0, 0, 0, 0.15);\n",
              "      filter: drop-shadow(0px 1px 2px rgba(0, 0, 0, 0.3));\n",
              "      fill: #FFFFFF;\n",
              "    }\n",
              "  </style>\n",
              "\n",
              "      <script>\n",
              "        const buttonEl =\n",
              "          document.querySelector('#df-48a8a08a-ca74-4980-a9b8-2d4712a651c6 button.colab-df-convert');\n",
              "        buttonEl.style.display =\n",
              "          google.colab.kernel.accessAllowed ? 'block' : 'none';\n",
              "\n",
              "        async function convertToInteractive(key) {\n",
              "          const element = document.querySelector('#df-48a8a08a-ca74-4980-a9b8-2d4712a651c6');\n",
              "          const dataTable =\n",
              "            await google.colab.kernel.invokeFunction('convertToInteractive',\n",
              "                                                     [key], {});\n",
              "          if (!dataTable) return;\n",
              "\n",
              "          const docLinkHtml = 'Like what you see? Visit the ' +\n",
              "            '<a target=\"_blank\" href=https://colab.research.google.com/notebooks/data_table.ipynb>data table notebook</a>'\n",
              "            + ' to learn more about interactive tables.';\n",
              "          element.innerHTML = '';\n",
              "          dataTable['output_type'] = 'display_data';\n",
              "          await google.colab.output.renderOutput(dataTable, element);\n",
              "          const docLink = document.createElement('div');\n",
              "          docLink.innerHTML = docLinkHtml;\n",
              "          element.appendChild(docLink);\n",
              "        }\n",
              "      </script>\n",
              "    </div>\n",
              "  </div>\n",
              "  "
            ]
          },
          "metadata": {},
          "execution_count": 64
        }
      ]
    },
    {
      "cell_type": "code",
      "source": [
        "items_df[5].head()"
      ],
      "metadata": {
        "colab": {
          "base_uri": "https://localhost:8080/",
          "height": 206
        },
        "id": "HY3COJwH9ke0",
        "outputId": "7e149ba4-4ee5-47a6-a963-115aba38ef2b"
      },
      "execution_count": 65,
      "outputs": [
        {
          "output_type": "execute_result",
          "data": {
            "text/plain": [
              "          date  item  sales   end_date  duration\n",
              "5   2013-01-01     6    288 2013-04-01        90\n",
              "55  2013-01-02     6    310 2013-04-02        90\n",
              "105 2013-01-03     6    309 2013-04-03        90\n",
              "155 2013-01-04     6    343 2013-04-04        90\n",
              "205 2013-01-05     6    343 2013-04-05        90"
            ],
            "text/html": [
              "\n",
              "  <div id=\"df-931078f8-f21c-460f-9bd3-50b4451d5e56\">\n",
              "    <div class=\"colab-df-container\">\n",
              "      <div>\n",
              "<style scoped>\n",
              "    .dataframe tbody tr th:only-of-type {\n",
              "        vertical-align: middle;\n",
              "    }\n",
              "\n",
              "    .dataframe tbody tr th {\n",
              "        vertical-align: top;\n",
              "    }\n",
              "\n",
              "    .dataframe thead th {\n",
              "        text-align: right;\n",
              "    }\n",
              "</style>\n",
              "<table border=\"1\" class=\"dataframe\">\n",
              "  <thead>\n",
              "    <tr style=\"text-align: right;\">\n",
              "      <th></th>\n",
              "      <th>date</th>\n",
              "      <th>item</th>\n",
              "      <th>sales</th>\n",
              "      <th>end_date</th>\n",
              "      <th>duration</th>\n",
              "    </tr>\n",
              "  </thead>\n",
              "  <tbody>\n",
              "    <tr>\n",
              "      <th>5</th>\n",
              "      <td>2013-01-01</td>\n",
              "      <td>6</td>\n",
              "      <td>288</td>\n",
              "      <td>2013-04-01</td>\n",
              "      <td>90</td>\n",
              "    </tr>\n",
              "    <tr>\n",
              "      <th>55</th>\n",
              "      <td>2013-01-02</td>\n",
              "      <td>6</td>\n",
              "      <td>310</td>\n",
              "      <td>2013-04-02</td>\n",
              "      <td>90</td>\n",
              "    </tr>\n",
              "    <tr>\n",
              "      <th>105</th>\n",
              "      <td>2013-01-03</td>\n",
              "      <td>6</td>\n",
              "      <td>309</td>\n",
              "      <td>2013-04-03</td>\n",
              "      <td>90</td>\n",
              "    </tr>\n",
              "    <tr>\n",
              "      <th>155</th>\n",
              "      <td>2013-01-04</td>\n",
              "      <td>6</td>\n",
              "      <td>343</td>\n",
              "      <td>2013-04-04</td>\n",
              "      <td>90</td>\n",
              "    </tr>\n",
              "    <tr>\n",
              "      <th>205</th>\n",
              "      <td>2013-01-05</td>\n",
              "      <td>6</td>\n",
              "      <td>343</td>\n",
              "      <td>2013-04-05</td>\n",
              "      <td>90</td>\n",
              "    </tr>\n",
              "  </tbody>\n",
              "</table>\n",
              "</div>\n",
              "      <button class=\"colab-df-convert\" onclick=\"convertToInteractive('df-931078f8-f21c-460f-9bd3-50b4451d5e56')\"\n",
              "              title=\"Convert this dataframe to an interactive table.\"\n",
              "              style=\"display:none;\">\n",
              "        \n",
              "  <svg xmlns=\"http://www.w3.org/2000/svg\" height=\"24px\"viewBox=\"0 0 24 24\"\n",
              "       width=\"24px\">\n",
              "    <path d=\"M0 0h24v24H0V0z\" fill=\"none\"/>\n",
              "    <path d=\"M18.56 5.44l.94 2.06.94-2.06 2.06-.94-2.06-.94-.94-2.06-.94 2.06-2.06.94zm-11 1L8.5 8.5l.94-2.06 2.06-.94-2.06-.94L8.5 2.5l-.94 2.06-2.06.94zm10 10l.94 2.06.94-2.06 2.06-.94-2.06-.94-.94-2.06-.94 2.06-2.06.94z\"/><path d=\"M17.41 7.96l-1.37-1.37c-.4-.4-.92-.59-1.43-.59-.52 0-1.04.2-1.43.59L10.3 9.45l-7.72 7.72c-.78.78-.78 2.05 0 2.83L4 21.41c.39.39.9.59 1.41.59.51 0 1.02-.2 1.41-.59l7.78-7.78 2.81-2.81c.8-.78.8-2.07 0-2.86zM5.41 20L4 18.59l7.72-7.72 1.47 1.35L5.41 20z\"/>\n",
              "  </svg>\n",
              "      </button>\n",
              "      \n",
              "  <style>\n",
              "    .colab-df-container {\n",
              "      display:flex;\n",
              "      flex-wrap:wrap;\n",
              "      gap: 12px;\n",
              "    }\n",
              "\n",
              "    .colab-df-convert {\n",
              "      background-color: #E8F0FE;\n",
              "      border: none;\n",
              "      border-radius: 50%;\n",
              "      cursor: pointer;\n",
              "      display: none;\n",
              "      fill: #1967D2;\n",
              "      height: 32px;\n",
              "      padding: 0 0 0 0;\n",
              "      width: 32px;\n",
              "    }\n",
              "\n",
              "    .colab-df-convert:hover {\n",
              "      background-color: #E2EBFA;\n",
              "      box-shadow: 0px 1px 2px rgba(60, 64, 67, 0.3), 0px 1px 3px 1px rgba(60, 64, 67, 0.15);\n",
              "      fill: #174EA6;\n",
              "    }\n",
              "\n",
              "    [theme=dark] .colab-df-convert {\n",
              "      background-color: #3B4455;\n",
              "      fill: #D2E3FC;\n",
              "    }\n",
              "\n",
              "    [theme=dark] .colab-df-convert:hover {\n",
              "      background-color: #434B5C;\n",
              "      box-shadow: 0px 1px 3px 1px rgba(0, 0, 0, 0.15);\n",
              "      filter: drop-shadow(0px 1px 2px rgba(0, 0, 0, 0.3));\n",
              "      fill: #FFFFFF;\n",
              "    }\n",
              "  </style>\n",
              "\n",
              "      <script>\n",
              "        const buttonEl =\n",
              "          document.querySelector('#df-931078f8-f21c-460f-9bd3-50b4451d5e56 button.colab-df-convert');\n",
              "        buttonEl.style.display =\n",
              "          google.colab.kernel.accessAllowed ? 'block' : 'none';\n",
              "\n",
              "        async function convertToInteractive(key) {\n",
              "          const element = document.querySelector('#df-931078f8-f21c-460f-9bd3-50b4451d5e56');\n",
              "          const dataTable =\n",
              "            await google.colab.kernel.invokeFunction('convertToInteractive',\n",
              "                                                     [key], {});\n",
              "          if (!dataTable) return;\n",
              "\n",
              "          const docLinkHtml = 'Like what you see? Visit the ' +\n",
              "            '<a target=\"_blank\" href=https://colab.research.google.com/notebooks/data_table.ipynb>data table notebook</a>'\n",
              "            + ' to learn more about interactive tables.';\n",
              "          element.innerHTML = '';\n",
              "          dataTable['output_type'] = 'display_data';\n",
              "          await google.colab.output.renderOutput(dataTable, element);\n",
              "          const docLink = document.createElement('div');\n",
              "          docLink.innerHTML = docLinkHtml;\n",
              "          element.appendChild(docLink);\n",
              "        }\n",
              "      </script>\n",
              "    </div>\n",
              "  </div>\n",
              "  "
            ]
          },
          "metadata": {},
          "execution_count": 65
        }
      ]
    },
    {
      "cell_type": "code",
      "source": [
        "def three_month_sales(data):\n",
        "  three=[]\n",
        "  for i in range(0,len(data)):\n",
        "    sum=data['sales'][i:i+data.iloc[i,4]].sum()\n",
        "    three.append(sum)\n",
        "\n",
        "  data['three_month_sale']=three\n",
        "  data.drop(data.tail(91).index,inplace=True)\n",
        "  return data"
      ],
      "metadata": {
        "id": "4vDIKg7r9oqb"
      },
      "execution_count": 66,
      "outputs": []
    },
    {
      "cell_type": "code",
      "source": [
        "dataset=[three_month_sales(items_df[k]) for k in range(50)]"
      ],
      "metadata": {
        "id": "a_-WSd5u9rSc"
      },
      "execution_count": 67,
      "outputs": []
    },
    {
      "cell_type": "code",
      "source": [
        "dataset[0]"
      ],
      "metadata": {
        "colab": {
          "base_uri": "https://localhost:8080/",
          "height": 423
        },
        "id": "EiStKgfY9xA9",
        "outputId": "9b8f1d7b-1c5a-4e52-c072-7c940c576e04"
      },
      "execution_count": 68,
      "outputs": [
        {
          "output_type": "execute_result",
          "data": {
            "text/plain": [
              "            date  item  sales   end_date  duration  three_month_sale\n",
              "0     2013-01-01     1    133 2013-04-01        90             12847\n",
              "50    2013-01-02     1     99 2013-04-02        90             12848\n",
              "100   2013-01-03     1    127 2013-04-03        90             12936\n",
              "150   2013-01-04     1    145 2013-04-04        90             13019\n",
              "200   2013-01-05     1    149 2013-04-05        90             13103\n",
              "...          ...   ...    ...        ...       ...               ...\n",
              "86500 2017-09-27     1    249 2017-12-27        91             21126\n",
              "86550 2017-09-28     1    235 2017-12-28        91             21031\n",
              "86600 2017-09-29     1    270 2017-12-29        91             20974\n",
              "86650 2017-09-30     1    269 2017-12-30        91             20911\n",
              "86700 2017-10-01     1    300 2018-01-01        92             21105\n",
              "\n",
              "[1735 rows x 6 columns]"
            ],
            "text/html": [
              "\n",
              "  <div id=\"df-989e77e4-b6eb-486e-b770-e3acd6413a83\">\n",
              "    <div class=\"colab-df-container\">\n",
              "      <div>\n",
              "<style scoped>\n",
              "    .dataframe tbody tr th:only-of-type {\n",
              "        vertical-align: middle;\n",
              "    }\n",
              "\n",
              "    .dataframe tbody tr th {\n",
              "        vertical-align: top;\n",
              "    }\n",
              "\n",
              "    .dataframe thead th {\n",
              "        text-align: right;\n",
              "    }\n",
              "</style>\n",
              "<table border=\"1\" class=\"dataframe\">\n",
              "  <thead>\n",
              "    <tr style=\"text-align: right;\">\n",
              "      <th></th>\n",
              "      <th>date</th>\n",
              "      <th>item</th>\n",
              "      <th>sales</th>\n",
              "      <th>end_date</th>\n",
              "      <th>duration</th>\n",
              "      <th>three_month_sale</th>\n",
              "    </tr>\n",
              "  </thead>\n",
              "  <tbody>\n",
              "    <tr>\n",
              "      <th>0</th>\n",
              "      <td>2013-01-01</td>\n",
              "      <td>1</td>\n",
              "      <td>133</td>\n",
              "      <td>2013-04-01</td>\n",
              "      <td>90</td>\n",
              "      <td>12847</td>\n",
              "    </tr>\n",
              "    <tr>\n",
              "      <th>50</th>\n",
              "      <td>2013-01-02</td>\n",
              "      <td>1</td>\n",
              "      <td>99</td>\n",
              "      <td>2013-04-02</td>\n",
              "      <td>90</td>\n",
              "      <td>12848</td>\n",
              "    </tr>\n",
              "    <tr>\n",
              "      <th>100</th>\n",
              "      <td>2013-01-03</td>\n",
              "      <td>1</td>\n",
              "      <td>127</td>\n",
              "      <td>2013-04-03</td>\n",
              "      <td>90</td>\n",
              "      <td>12936</td>\n",
              "    </tr>\n",
              "    <tr>\n",
              "      <th>150</th>\n",
              "      <td>2013-01-04</td>\n",
              "      <td>1</td>\n",
              "      <td>145</td>\n",
              "      <td>2013-04-04</td>\n",
              "      <td>90</td>\n",
              "      <td>13019</td>\n",
              "    </tr>\n",
              "    <tr>\n",
              "      <th>200</th>\n",
              "      <td>2013-01-05</td>\n",
              "      <td>1</td>\n",
              "      <td>149</td>\n",
              "      <td>2013-04-05</td>\n",
              "      <td>90</td>\n",
              "      <td>13103</td>\n",
              "    </tr>\n",
              "    <tr>\n",
              "      <th>...</th>\n",
              "      <td>...</td>\n",
              "      <td>...</td>\n",
              "      <td>...</td>\n",
              "      <td>...</td>\n",
              "      <td>...</td>\n",
              "      <td>...</td>\n",
              "    </tr>\n",
              "    <tr>\n",
              "      <th>86500</th>\n",
              "      <td>2017-09-27</td>\n",
              "      <td>1</td>\n",
              "      <td>249</td>\n",
              "      <td>2017-12-27</td>\n",
              "      <td>91</td>\n",
              "      <td>21126</td>\n",
              "    </tr>\n",
              "    <tr>\n",
              "      <th>86550</th>\n",
              "      <td>2017-09-28</td>\n",
              "      <td>1</td>\n",
              "      <td>235</td>\n",
              "      <td>2017-12-28</td>\n",
              "      <td>91</td>\n",
              "      <td>21031</td>\n",
              "    </tr>\n",
              "    <tr>\n",
              "      <th>86600</th>\n",
              "      <td>2017-09-29</td>\n",
              "      <td>1</td>\n",
              "      <td>270</td>\n",
              "      <td>2017-12-29</td>\n",
              "      <td>91</td>\n",
              "      <td>20974</td>\n",
              "    </tr>\n",
              "    <tr>\n",
              "      <th>86650</th>\n",
              "      <td>2017-09-30</td>\n",
              "      <td>1</td>\n",
              "      <td>269</td>\n",
              "      <td>2017-12-30</td>\n",
              "      <td>91</td>\n",
              "      <td>20911</td>\n",
              "    </tr>\n",
              "    <tr>\n",
              "      <th>86700</th>\n",
              "      <td>2017-10-01</td>\n",
              "      <td>1</td>\n",
              "      <td>300</td>\n",
              "      <td>2018-01-01</td>\n",
              "      <td>92</td>\n",
              "      <td>21105</td>\n",
              "    </tr>\n",
              "  </tbody>\n",
              "</table>\n",
              "<p>1735 rows × 6 columns</p>\n",
              "</div>\n",
              "      <button class=\"colab-df-convert\" onclick=\"convertToInteractive('df-989e77e4-b6eb-486e-b770-e3acd6413a83')\"\n",
              "              title=\"Convert this dataframe to an interactive table.\"\n",
              "              style=\"display:none;\">\n",
              "        \n",
              "  <svg xmlns=\"http://www.w3.org/2000/svg\" height=\"24px\"viewBox=\"0 0 24 24\"\n",
              "       width=\"24px\">\n",
              "    <path d=\"M0 0h24v24H0V0z\" fill=\"none\"/>\n",
              "    <path d=\"M18.56 5.44l.94 2.06.94-2.06 2.06-.94-2.06-.94-.94-2.06-.94 2.06-2.06.94zm-11 1L8.5 8.5l.94-2.06 2.06-.94-2.06-.94L8.5 2.5l-.94 2.06-2.06.94zm10 10l.94 2.06.94-2.06 2.06-.94-2.06-.94-.94-2.06-.94 2.06-2.06.94z\"/><path d=\"M17.41 7.96l-1.37-1.37c-.4-.4-.92-.59-1.43-.59-.52 0-1.04.2-1.43.59L10.3 9.45l-7.72 7.72c-.78.78-.78 2.05 0 2.83L4 21.41c.39.39.9.59 1.41.59.51 0 1.02-.2 1.41-.59l7.78-7.78 2.81-2.81c.8-.78.8-2.07 0-2.86zM5.41 20L4 18.59l7.72-7.72 1.47 1.35L5.41 20z\"/>\n",
              "  </svg>\n",
              "      </button>\n",
              "      \n",
              "  <style>\n",
              "    .colab-df-container {\n",
              "      display:flex;\n",
              "      flex-wrap:wrap;\n",
              "      gap: 12px;\n",
              "    }\n",
              "\n",
              "    .colab-df-convert {\n",
              "      background-color: #E8F0FE;\n",
              "      border: none;\n",
              "      border-radius: 50%;\n",
              "      cursor: pointer;\n",
              "      display: none;\n",
              "      fill: #1967D2;\n",
              "      height: 32px;\n",
              "      padding: 0 0 0 0;\n",
              "      width: 32px;\n",
              "    }\n",
              "\n",
              "    .colab-df-convert:hover {\n",
              "      background-color: #E2EBFA;\n",
              "      box-shadow: 0px 1px 2px rgba(60, 64, 67, 0.3), 0px 1px 3px 1px rgba(60, 64, 67, 0.15);\n",
              "      fill: #174EA6;\n",
              "    }\n",
              "\n",
              "    [theme=dark] .colab-df-convert {\n",
              "      background-color: #3B4455;\n",
              "      fill: #D2E3FC;\n",
              "    }\n",
              "\n",
              "    [theme=dark] .colab-df-convert:hover {\n",
              "      background-color: #434B5C;\n",
              "      box-shadow: 0px 1px 3px 1px rgba(0, 0, 0, 0.15);\n",
              "      filter: drop-shadow(0px 1px 2px rgba(0, 0, 0, 0.3));\n",
              "      fill: #FFFFFF;\n",
              "    }\n",
              "  </style>\n",
              "\n",
              "      <script>\n",
              "        const buttonEl =\n",
              "          document.querySelector('#df-989e77e4-b6eb-486e-b770-e3acd6413a83 button.colab-df-convert');\n",
              "        buttonEl.style.display =\n",
              "          google.colab.kernel.accessAllowed ? 'block' : 'none';\n",
              "\n",
              "        async function convertToInteractive(key) {\n",
              "          const element = document.querySelector('#df-989e77e4-b6eb-486e-b770-e3acd6413a83');\n",
              "          const dataTable =\n",
              "            await google.colab.kernel.invokeFunction('convertToInteractive',\n",
              "                                                     [key], {});\n",
              "          if (!dataTable) return;\n",
              "\n",
              "          const docLinkHtml = 'Like what you see? Visit the ' +\n",
              "            '<a target=\"_blank\" href=https://colab.research.google.com/notebooks/data_table.ipynb>data table notebook</a>'\n",
              "            + ' to learn more about interactive tables.';\n",
              "          element.innerHTML = '';\n",
              "          dataTable['output_type'] = 'display_data';\n",
              "          await google.colab.output.renderOutput(dataTable, element);\n",
              "          const docLink = document.createElement('div');\n",
              "          docLink.innerHTML = docLinkHtml;\n",
              "          element.appendChild(docLink);\n",
              "        }\n",
              "      </script>\n",
              "    </div>\n",
              "  </div>\n",
              "  "
            ]
          },
          "metadata": {},
          "execution_count": 68
        }
      ]
    },
    {
      "cell_type": "code",
      "source": [
        "def delete(df,unwanted):                          # delete the unwanted columns         \n",
        "  df.drop(unwanted,axis=1,inplace=True)\n",
        "  return df\n",
        "unwanted_col=['end_date','sales']                    \n",
        "dataset=[delete(dataset[i],unwanted_col) for i in range(50)]             # One day sales ware converted into three month sales both of them gives same informations.\n",
        "dataset[49]"
      ],
      "metadata": {
        "colab": {
          "base_uri": "https://localhost:8080/",
          "height": 423
        },
        "id": "mk2qjF8r94yn",
        "outputId": "6761f180-7ea6-49b1-c47d-8e5de60f7830"
      },
      "execution_count": 69,
      "outputs": [
        {
          "output_type": "execute_result",
          "data": {
            "text/plain": [
              "            date  item  duration  three_month_sale\n",
              "49    2013-01-01    50        90             38720\n",
              "99    2013-01-02    50        90             38874\n",
              "149   2013-01-03    50        90             39034\n",
              "199   2013-01-04    50        90             39200\n",
              "249   2013-01-05    50        90             39378\n",
              "...          ...   ...       ...               ...\n",
              "86549 2017-09-27    50        91             63158\n",
              "86599 2017-09-28    50        91             62942\n",
              "86649 2017-09-29    50        91             62787\n",
              "86699 2017-09-30    50        91             62558\n",
              "86749 2017-10-01    50        92             62925\n",
              "\n",
              "[1735 rows x 4 columns]"
            ],
            "text/html": [
              "\n",
              "  <div id=\"df-f9ad39ae-e12d-476c-b523-f5fca62ab9b5\">\n",
              "    <div class=\"colab-df-container\">\n",
              "      <div>\n",
              "<style scoped>\n",
              "    .dataframe tbody tr th:only-of-type {\n",
              "        vertical-align: middle;\n",
              "    }\n",
              "\n",
              "    .dataframe tbody tr th {\n",
              "        vertical-align: top;\n",
              "    }\n",
              "\n",
              "    .dataframe thead th {\n",
              "        text-align: right;\n",
              "    }\n",
              "</style>\n",
              "<table border=\"1\" class=\"dataframe\">\n",
              "  <thead>\n",
              "    <tr style=\"text-align: right;\">\n",
              "      <th></th>\n",
              "      <th>date</th>\n",
              "      <th>item</th>\n",
              "      <th>duration</th>\n",
              "      <th>three_month_sale</th>\n",
              "    </tr>\n",
              "  </thead>\n",
              "  <tbody>\n",
              "    <tr>\n",
              "      <th>49</th>\n",
              "      <td>2013-01-01</td>\n",
              "      <td>50</td>\n",
              "      <td>90</td>\n",
              "      <td>38720</td>\n",
              "    </tr>\n",
              "    <tr>\n",
              "      <th>99</th>\n",
              "      <td>2013-01-02</td>\n",
              "      <td>50</td>\n",
              "      <td>90</td>\n",
              "      <td>38874</td>\n",
              "    </tr>\n",
              "    <tr>\n",
              "      <th>149</th>\n",
              "      <td>2013-01-03</td>\n",
              "      <td>50</td>\n",
              "      <td>90</td>\n",
              "      <td>39034</td>\n",
              "    </tr>\n",
              "    <tr>\n",
              "      <th>199</th>\n",
              "      <td>2013-01-04</td>\n",
              "      <td>50</td>\n",
              "      <td>90</td>\n",
              "      <td>39200</td>\n",
              "    </tr>\n",
              "    <tr>\n",
              "      <th>249</th>\n",
              "      <td>2013-01-05</td>\n",
              "      <td>50</td>\n",
              "      <td>90</td>\n",
              "      <td>39378</td>\n",
              "    </tr>\n",
              "    <tr>\n",
              "      <th>...</th>\n",
              "      <td>...</td>\n",
              "      <td>...</td>\n",
              "      <td>...</td>\n",
              "      <td>...</td>\n",
              "    </tr>\n",
              "    <tr>\n",
              "      <th>86549</th>\n",
              "      <td>2017-09-27</td>\n",
              "      <td>50</td>\n",
              "      <td>91</td>\n",
              "      <td>63158</td>\n",
              "    </tr>\n",
              "    <tr>\n",
              "      <th>86599</th>\n",
              "      <td>2017-09-28</td>\n",
              "      <td>50</td>\n",
              "      <td>91</td>\n",
              "      <td>62942</td>\n",
              "    </tr>\n",
              "    <tr>\n",
              "      <th>86649</th>\n",
              "      <td>2017-09-29</td>\n",
              "      <td>50</td>\n",
              "      <td>91</td>\n",
              "      <td>62787</td>\n",
              "    </tr>\n",
              "    <tr>\n",
              "      <th>86699</th>\n",
              "      <td>2017-09-30</td>\n",
              "      <td>50</td>\n",
              "      <td>91</td>\n",
              "      <td>62558</td>\n",
              "    </tr>\n",
              "    <tr>\n",
              "      <th>86749</th>\n",
              "      <td>2017-10-01</td>\n",
              "      <td>50</td>\n",
              "      <td>92</td>\n",
              "      <td>62925</td>\n",
              "    </tr>\n",
              "  </tbody>\n",
              "</table>\n",
              "<p>1735 rows × 4 columns</p>\n",
              "</div>\n",
              "      <button class=\"colab-df-convert\" onclick=\"convertToInteractive('df-f9ad39ae-e12d-476c-b523-f5fca62ab9b5')\"\n",
              "              title=\"Convert this dataframe to an interactive table.\"\n",
              "              style=\"display:none;\">\n",
              "        \n",
              "  <svg xmlns=\"http://www.w3.org/2000/svg\" height=\"24px\"viewBox=\"0 0 24 24\"\n",
              "       width=\"24px\">\n",
              "    <path d=\"M0 0h24v24H0V0z\" fill=\"none\"/>\n",
              "    <path d=\"M18.56 5.44l.94 2.06.94-2.06 2.06-.94-2.06-.94-.94-2.06-.94 2.06-2.06.94zm-11 1L8.5 8.5l.94-2.06 2.06-.94-2.06-.94L8.5 2.5l-.94 2.06-2.06.94zm10 10l.94 2.06.94-2.06 2.06-.94-2.06-.94-.94-2.06-.94 2.06-2.06.94z\"/><path d=\"M17.41 7.96l-1.37-1.37c-.4-.4-.92-.59-1.43-.59-.52 0-1.04.2-1.43.59L10.3 9.45l-7.72 7.72c-.78.78-.78 2.05 0 2.83L4 21.41c.39.39.9.59 1.41.59.51 0 1.02-.2 1.41-.59l7.78-7.78 2.81-2.81c.8-.78.8-2.07 0-2.86zM5.41 20L4 18.59l7.72-7.72 1.47 1.35L5.41 20z\"/>\n",
              "  </svg>\n",
              "      </button>\n",
              "      \n",
              "  <style>\n",
              "    .colab-df-container {\n",
              "      display:flex;\n",
              "      flex-wrap:wrap;\n",
              "      gap: 12px;\n",
              "    }\n",
              "\n",
              "    .colab-df-convert {\n",
              "      background-color: #E8F0FE;\n",
              "      border: none;\n",
              "      border-radius: 50%;\n",
              "      cursor: pointer;\n",
              "      display: none;\n",
              "      fill: #1967D2;\n",
              "      height: 32px;\n",
              "      padding: 0 0 0 0;\n",
              "      width: 32px;\n",
              "    }\n",
              "\n",
              "    .colab-df-convert:hover {\n",
              "      background-color: #E2EBFA;\n",
              "      box-shadow: 0px 1px 2px rgba(60, 64, 67, 0.3), 0px 1px 3px 1px rgba(60, 64, 67, 0.15);\n",
              "      fill: #174EA6;\n",
              "    }\n",
              "\n",
              "    [theme=dark] .colab-df-convert {\n",
              "      background-color: #3B4455;\n",
              "      fill: #D2E3FC;\n",
              "    }\n",
              "\n",
              "    [theme=dark] .colab-df-convert:hover {\n",
              "      background-color: #434B5C;\n",
              "      box-shadow: 0px 1px 3px 1px rgba(0, 0, 0, 0.15);\n",
              "      filter: drop-shadow(0px 1px 2px rgba(0, 0, 0, 0.3));\n",
              "      fill: #FFFFFF;\n",
              "    }\n",
              "  </style>\n",
              "\n",
              "      <script>\n",
              "        const buttonEl =\n",
              "          document.querySelector('#df-f9ad39ae-e12d-476c-b523-f5fca62ab9b5 button.colab-df-convert');\n",
              "        buttonEl.style.display =\n",
              "          google.colab.kernel.accessAllowed ? 'block' : 'none';\n",
              "\n",
              "        async function convertToInteractive(key) {\n",
              "          const element = document.querySelector('#df-f9ad39ae-e12d-476c-b523-f5fca62ab9b5');\n",
              "          const dataTable =\n",
              "            await google.colab.kernel.invokeFunction('convertToInteractive',\n",
              "                                                     [key], {});\n",
              "          if (!dataTable) return;\n",
              "\n",
              "          const docLinkHtml = 'Like what you see? Visit the ' +\n",
              "            '<a target=\"_blank\" href=https://colab.research.google.com/notebooks/data_table.ipynb>data table notebook</a>'\n",
              "            + ' to learn more about interactive tables.';\n",
              "          element.innerHTML = '';\n",
              "          dataTable['output_type'] = 'display_data';\n",
              "          await google.colab.output.renderOutput(dataTable, element);\n",
              "          const docLink = document.createElement('div');\n",
              "          docLink.innerHTML = docLinkHtml;\n",
              "          element.appendChild(docLink);\n",
              "        }\n",
              "      </script>\n",
              "    </div>\n",
              "  </div>\n",
              "  "
            ]
          },
          "metadata": {},
          "execution_count": 69
        }
      ]
    },
    {
      "cell_type": "code",
      "source": [
        "def dataframe(data):\n",
        "  df=data[0]\n",
        "  for i in range(1,50):\n",
        "    df=df.append(data[i],ignore_index=True)\n",
        "  return df"
      ],
      "metadata": {
        "id": "OALfcG_O97n8"
      },
      "execution_count": 70,
      "outputs": []
    },
    {
      "cell_type": "code",
      "source": [
        "df=dataframe(dataset)\n",
        "df"
      ],
      "metadata": {
        "colab": {
          "base_uri": "https://localhost:8080/",
          "height": 423
        },
        "id": "z3otEYLm9-fg",
        "outputId": "2161b8ff-8345-4202-ade0-2d3fd0b25d1b"
      },
      "execution_count": 91,
      "outputs": [
        {
          "output_type": "execute_result",
          "data": {
            "text/plain": [
              "            date  item  duration  three_month_sale\n",
              "0     2013-01-01     1        90             12847\n",
              "1     2013-01-02     1        90             12848\n",
              "2     2013-01-03     1        90             12936\n",
              "3     2013-01-04     1        90             13019\n",
              "4     2013-01-05     1        90             13103\n",
              "...          ...   ...       ...               ...\n",
              "86745 2017-09-27    50        91             63158\n",
              "86746 2017-09-28    50        91             62942\n",
              "86747 2017-09-29    50        91             62787\n",
              "86748 2017-09-30    50        91             62558\n",
              "86749 2017-10-01    50        92             62925\n",
              "\n",
              "[86750 rows x 4 columns]"
            ],
            "text/html": [
              "\n",
              "  <div id=\"df-fe5963ca-a641-427a-a267-9b96bdd7438f\">\n",
              "    <div class=\"colab-df-container\">\n",
              "      <div>\n",
              "<style scoped>\n",
              "    .dataframe tbody tr th:only-of-type {\n",
              "        vertical-align: middle;\n",
              "    }\n",
              "\n",
              "    .dataframe tbody tr th {\n",
              "        vertical-align: top;\n",
              "    }\n",
              "\n",
              "    .dataframe thead th {\n",
              "        text-align: right;\n",
              "    }\n",
              "</style>\n",
              "<table border=\"1\" class=\"dataframe\">\n",
              "  <thead>\n",
              "    <tr style=\"text-align: right;\">\n",
              "      <th></th>\n",
              "      <th>date</th>\n",
              "      <th>item</th>\n",
              "      <th>duration</th>\n",
              "      <th>three_month_sale</th>\n",
              "    </tr>\n",
              "  </thead>\n",
              "  <tbody>\n",
              "    <tr>\n",
              "      <th>0</th>\n",
              "      <td>2013-01-01</td>\n",
              "      <td>1</td>\n",
              "      <td>90</td>\n",
              "      <td>12847</td>\n",
              "    </tr>\n",
              "    <tr>\n",
              "      <th>1</th>\n",
              "      <td>2013-01-02</td>\n",
              "      <td>1</td>\n",
              "      <td>90</td>\n",
              "      <td>12848</td>\n",
              "    </tr>\n",
              "    <tr>\n",
              "      <th>2</th>\n",
              "      <td>2013-01-03</td>\n",
              "      <td>1</td>\n",
              "      <td>90</td>\n",
              "      <td>12936</td>\n",
              "    </tr>\n",
              "    <tr>\n",
              "      <th>3</th>\n",
              "      <td>2013-01-04</td>\n",
              "      <td>1</td>\n",
              "      <td>90</td>\n",
              "      <td>13019</td>\n",
              "    </tr>\n",
              "    <tr>\n",
              "      <th>4</th>\n",
              "      <td>2013-01-05</td>\n",
              "      <td>1</td>\n",
              "      <td>90</td>\n",
              "      <td>13103</td>\n",
              "    </tr>\n",
              "    <tr>\n",
              "      <th>...</th>\n",
              "      <td>...</td>\n",
              "      <td>...</td>\n",
              "      <td>...</td>\n",
              "      <td>...</td>\n",
              "    </tr>\n",
              "    <tr>\n",
              "      <th>86745</th>\n",
              "      <td>2017-09-27</td>\n",
              "      <td>50</td>\n",
              "      <td>91</td>\n",
              "      <td>63158</td>\n",
              "    </tr>\n",
              "    <tr>\n",
              "      <th>86746</th>\n",
              "      <td>2017-09-28</td>\n",
              "      <td>50</td>\n",
              "      <td>91</td>\n",
              "      <td>62942</td>\n",
              "    </tr>\n",
              "    <tr>\n",
              "      <th>86747</th>\n",
              "      <td>2017-09-29</td>\n",
              "      <td>50</td>\n",
              "      <td>91</td>\n",
              "      <td>62787</td>\n",
              "    </tr>\n",
              "    <tr>\n",
              "      <th>86748</th>\n",
              "      <td>2017-09-30</td>\n",
              "      <td>50</td>\n",
              "      <td>91</td>\n",
              "      <td>62558</td>\n",
              "    </tr>\n",
              "    <tr>\n",
              "      <th>86749</th>\n",
              "      <td>2017-10-01</td>\n",
              "      <td>50</td>\n",
              "      <td>92</td>\n",
              "      <td>62925</td>\n",
              "    </tr>\n",
              "  </tbody>\n",
              "</table>\n",
              "<p>86750 rows × 4 columns</p>\n",
              "</div>\n",
              "      <button class=\"colab-df-convert\" onclick=\"convertToInteractive('df-fe5963ca-a641-427a-a267-9b96bdd7438f')\"\n",
              "              title=\"Convert this dataframe to an interactive table.\"\n",
              "              style=\"display:none;\">\n",
              "        \n",
              "  <svg xmlns=\"http://www.w3.org/2000/svg\" height=\"24px\"viewBox=\"0 0 24 24\"\n",
              "       width=\"24px\">\n",
              "    <path d=\"M0 0h24v24H0V0z\" fill=\"none\"/>\n",
              "    <path d=\"M18.56 5.44l.94 2.06.94-2.06 2.06-.94-2.06-.94-.94-2.06-.94 2.06-2.06.94zm-11 1L8.5 8.5l.94-2.06 2.06-.94-2.06-.94L8.5 2.5l-.94 2.06-2.06.94zm10 10l.94 2.06.94-2.06 2.06-.94-2.06-.94-.94-2.06-.94 2.06-2.06.94z\"/><path d=\"M17.41 7.96l-1.37-1.37c-.4-.4-.92-.59-1.43-.59-.52 0-1.04.2-1.43.59L10.3 9.45l-7.72 7.72c-.78.78-.78 2.05 0 2.83L4 21.41c.39.39.9.59 1.41.59.51 0 1.02-.2 1.41-.59l7.78-7.78 2.81-2.81c.8-.78.8-2.07 0-2.86zM5.41 20L4 18.59l7.72-7.72 1.47 1.35L5.41 20z\"/>\n",
              "  </svg>\n",
              "      </button>\n",
              "      \n",
              "  <style>\n",
              "    .colab-df-container {\n",
              "      display:flex;\n",
              "      flex-wrap:wrap;\n",
              "      gap: 12px;\n",
              "    }\n",
              "\n",
              "    .colab-df-convert {\n",
              "      background-color: #E8F0FE;\n",
              "      border: none;\n",
              "      border-radius: 50%;\n",
              "      cursor: pointer;\n",
              "      display: none;\n",
              "      fill: #1967D2;\n",
              "      height: 32px;\n",
              "      padding: 0 0 0 0;\n",
              "      width: 32px;\n",
              "    }\n",
              "\n",
              "    .colab-df-convert:hover {\n",
              "      background-color: #E2EBFA;\n",
              "      box-shadow: 0px 1px 2px rgba(60, 64, 67, 0.3), 0px 1px 3px 1px rgba(60, 64, 67, 0.15);\n",
              "      fill: #174EA6;\n",
              "    }\n",
              "\n",
              "    [theme=dark] .colab-df-convert {\n",
              "      background-color: #3B4455;\n",
              "      fill: #D2E3FC;\n",
              "    }\n",
              "\n",
              "    [theme=dark] .colab-df-convert:hover {\n",
              "      background-color: #434B5C;\n",
              "      box-shadow: 0px 1px 3px 1px rgba(0, 0, 0, 0.15);\n",
              "      filter: drop-shadow(0px 1px 2px rgba(0, 0, 0, 0.3));\n",
              "      fill: #FFFFFF;\n",
              "    }\n",
              "  </style>\n",
              "\n",
              "      <script>\n",
              "        const buttonEl =\n",
              "          document.querySelector('#df-fe5963ca-a641-427a-a267-9b96bdd7438f button.colab-df-convert');\n",
              "        buttonEl.style.display =\n",
              "          google.colab.kernel.accessAllowed ? 'block' : 'none';\n",
              "\n",
              "        async function convertToInteractive(key) {\n",
              "          const element = document.querySelector('#df-fe5963ca-a641-427a-a267-9b96bdd7438f');\n",
              "          const dataTable =\n",
              "            await google.colab.kernel.invokeFunction('convertToInteractive',\n",
              "                                                     [key], {});\n",
              "          if (!dataTable) return;\n",
              "\n",
              "          const docLinkHtml = 'Like what you see? Visit the ' +\n",
              "            '<a target=\"_blank\" href=https://colab.research.google.com/notebooks/data_table.ipynb>data table notebook</a>'\n",
              "            + ' to learn more about interactive tables.';\n",
              "          element.innerHTML = '';\n",
              "          dataTable['output_type'] = 'display_data';\n",
              "          await google.colab.output.renderOutput(dataTable, element);\n",
              "          const docLink = document.createElement('div');\n",
              "          docLink.innerHTML = docLinkHtml;\n",
              "          element.appendChild(docLink);\n",
              "        }\n",
              "      </script>\n",
              "    </div>\n",
              "  </div>\n",
              "  "
            ]
          },
          "metadata": {},
          "execution_count": 91
        }
      ]
    },
    {
      "cell_type": "code",
      "source": [
        "def isweekend(data):\n",
        "  if data < 5 :\n",
        "    return 0\n",
        "  else:\n",
        "    return 1\n",
        "     "
      ],
      "metadata": {
        "id": "glyyO0jY-BrP"
      },
      "execution_count": 72,
      "outputs": []
    },
    {
      "cell_type": "code",
      "source": [
        "df['day']=df['date'].dt.day\n",
        "df['dayofyear']=df['date'].dt.dayofyear\n",
        "df['week']=df['date'].dt.week\n",
        "df['weekday']=df['date'].dt.weekday\n",
        "df['weekend']=[isweekend(i) for i in df['weekday']]\n",
        "df['month']=df['date'].dt.month\n",
        "df['quarter']=df['date'].dt.quarter\n",
        "df['year']=df['date'].dt.year\n"
      ],
      "metadata": {
        "id": "OGzRFMQg-FSI"
      },
      "execution_count": 73,
      "outputs": []
    },
    {
      "cell_type": "code",
      "source": [
        "df"
      ],
      "metadata": {
        "colab": {
          "base_uri": "https://localhost:8080/",
          "height": 423
        },
        "id": "7ncFOGG2-HoR",
        "outputId": "ddd63fba-4620-41be-e79b-f1ac25fccc63"
      },
      "execution_count": 74,
      "outputs": [
        {
          "output_type": "execute_result",
          "data": {
            "text/plain": [
              "            date  item  duration  three_month_sale  day  dayofyear  week  \\\n",
              "0     2013-01-01     1        90             12847    1          1     1   \n",
              "1     2013-01-02     1        90             12848    2          2     1   \n",
              "2     2013-01-03     1        90             12936    3          3     1   \n",
              "3     2013-01-04     1        90             13019    4          4     1   \n",
              "4     2013-01-05     1        90             13103    5          5     1   \n",
              "...          ...   ...       ...               ...  ...        ...   ...   \n",
              "86745 2017-09-27    50        91             63158   27        270    39   \n",
              "86746 2017-09-28    50        91             62942   28        271    39   \n",
              "86747 2017-09-29    50        91             62787   29        272    39   \n",
              "86748 2017-09-30    50        91             62558   30        273    39   \n",
              "86749 2017-10-01    50        92             62925    1        274    39   \n",
              "\n",
              "       weekday  weekend  month  quarter  year  \n",
              "0            1        0      1        1  2013  \n",
              "1            2        0      1        1  2013  \n",
              "2            3        0      1        1  2013  \n",
              "3            4        0      1        1  2013  \n",
              "4            5        1      1        1  2013  \n",
              "...        ...      ...    ...      ...   ...  \n",
              "86745        2        0      9        3  2017  \n",
              "86746        3        0      9        3  2017  \n",
              "86747        4        0      9        3  2017  \n",
              "86748        5        1      9        3  2017  \n",
              "86749        6        1     10        4  2017  \n",
              "\n",
              "[86750 rows x 12 columns]"
            ],
            "text/html": [
              "\n",
              "  <div id=\"df-dc9d9308-ae06-437a-9635-076de1860b1a\">\n",
              "    <div class=\"colab-df-container\">\n",
              "      <div>\n",
              "<style scoped>\n",
              "    .dataframe tbody tr th:only-of-type {\n",
              "        vertical-align: middle;\n",
              "    }\n",
              "\n",
              "    .dataframe tbody tr th {\n",
              "        vertical-align: top;\n",
              "    }\n",
              "\n",
              "    .dataframe thead th {\n",
              "        text-align: right;\n",
              "    }\n",
              "</style>\n",
              "<table border=\"1\" class=\"dataframe\">\n",
              "  <thead>\n",
              "    <tr style=\"text-align: right;\">\n",
              "      <th></th>\n",
              "      <th>date</th>\n",
              "      <th>item</th>\n",
              "      <th>duration</th>\n",
              "      <th>three_month_sale</th>\n",
              "      <th>day</th>\n",
              "      <th>dayofyear</th>\n",
              "      <th>week</th>\n",
              "      <th>weekday</th>\n",
              "      <th>weekend</th>\n",
              "      <th>month</th>\n",
              "      <th>quarter</th>\n",
              "      <th>year</th>\n",
              "    </tr>\n",
              "  </thead>\n",
              "  <tbody>\n",
              "    <tr>\n",
              "      <th>0</th>\n",
              "      <td>2013-01-01</td>\n",
              "      <td>1</td>\n",
              "      <td>90</td>\n",
              "      <td>12847</td>\n",
              "      <td>1</td>\n",
              "      <td>1</td>\n",
              "      <td>1</td>\n",
              "      <td>1</td>\n",
              "      <td>0</td>\n",
              "      <td>1</td>\n",
              "      <td>1</td>\n",
              "      <td>2013</td>\n",
              "    </tr>\n",
              "    <tr>\n",
              "      <th>1</th>\n",
              "      <td>2013-01-02</td>\n",
              "      <td>1</td>\n",
              "      <td>90</td>\n",
              "      <td>12848</td>\n",
              "      <td>2</td>\n",
              "      <td>2</td>\n",
              "      <td>1</td>\n",
              "      <td>2</td>\n",
              "      <td>0</td>\n",
              "      <td>1</td>\n",
              "      <td>1</td>\n",
              "      <td>2013</td>\n",
              "    </tr>\n",
              "    <tr>\n",
              "      <th>2</th>\n",
              "      <td>2013-01-03</td>\n",
              "      <td>1</td>\n",
              "      <td>90</td>\n",
              "      <td>12936</td>\n",
              "      <td>3</td>\n",
              "      <td>3</td>\n",
              "      <td>1</td>\n",
              "      <td>3</td>\n",
              "      <td>0</td>\n",
              "      <td>1</td>\n",
              "      <td>1</td>\n",
              "      <td>2013</td>\n",
              "    </tr>\n",
              "    <tr>\n",
              "      <th>3</th>\n",
              "      <td>2013-01-04</td>\n",
              "      <td>1</td>\n",
              "      <td>90</td>\n",
              "      <td>13019</td>\n",
              "      <td>4</td>\n",
              "      <td>4</td>\n",
              "      <td>1</td>\n",
              "      <td>4</td>\n",
              "      <td>0</td>\n",
              "      <td>1</td>\n",
              "      <td>1</td>\n",
              "      <td>2013</td>\n",
              "    </tr>\n",
              "    <tr>\n",
              "      <th>4</th>\n",
              "      <td>2013-01-05</td>\n",
              "      <td>1</td>\n",
              "      <td>90</td>\n",
              "      <td>13103</td>\n",
              "      <td>5</td>\n",
              "      <td>5</td>\n",
              "      <td>1</td>\n",
              "      <td>5</td>\n",
              "      <td>1</td>\n",
              "      <td>1</td>\n",
              "      <td>1</td>\n",
              "      <td>2013</td>\n",
              "    </tr>\n",
              "    <tr>\n",
              "      <th>...</th>\n",
              "      <td>...</td>\n",
              "      <td>...</td>\n",
              "      <td>...</td>\n",
              "      <td>...</td>\n",
              "      <td>...</td>\n",
              "      <td>...</td>\n",
              "      <td>...</td>\n",
              "      <td>...</td>\n",
              "      <td>...</td>\n",
              "      <td>...</td>\n",
              "      <td>...</td>\n",
              "      <td>...</td>\n",
              "    </tr>\n",
              "    <tr>\n",
              "      <th>86745</th>\n",
              "      <td>2017-09-27</td>\n",
              "      <td>50</td>\n",
              "      <td>91</td>\n",
              "      <td>63158</td>\n",
              "      <td>27</td>\n",
              "      <td>270</td>\n",
              "      <td>39</td>\n",
              "      <td>2</td>\n",
              "      <td>0</td>\n",
              "      <td>9</td>\n",
              "      <td>3</td>\n",
              "      <td>2017</td>\n",
              "    </tr>\n",
              "    <tr>\n",
              "      <th>86746</th>\n",
              "      <td>2017-09-28</td>\n",
              "      <td>50</td>\n",
              "      <td>91</td>\n",
              "      <td>62942</td>\n",
              "      <td>28</td>\n",
              "      <td>271</td>\n",
              "      <td>39</td>\n",
              "      <td>3</td>\n",
              "      <td>0</td>\n",
              "      <td>9</td>\n",
              "      <td>3</td>\n",
              "      <td>2017</td>\n",
              "    </tr>\n",
              "    <tr>\n",
              "      <th>86747</th>\n",
              "      <td>2017-09-29</td>\n",
              "      <td>50</td>\n",
              "      <td>91</td>\n",
              "      <td>62787</td>\n",
              "      <td>29</td>\n",
              "      <td>272</td>\n",
              "      <td>39</td>\n",
              "      <td>4</td>\n",
              "      <td>0</td>\n",
              "      <td>9</td>\n",
              "      <td>3</td>\n",
              "      <td>2017</td>\n",
              "    </tr>\n",
              "    <tr>\n",
              "      <th>86748</th>\n",
              "      <td>2017-09-30</td>\n",
              "      <td>50</td>\n",
              "      <td>91</td>\n",
              "      <td>62558</td>\n",
              "      <td>30</td>\n",
              "      <td>273</td>\n",
              "      <td>39</td>\n",
              "      <td>5</td>\n",
              "      <td>1</td>\n",
              "      <td>9</td>\n",
              "      <td>3</td>\n",
              "      <td>2017</td>\n",
              "    </tr>\n",
              "    <tr>\n",
              "      <th>86749</th>\n",
              "      <td>2017-10-01</td>\n",
              "      <td>50</td>\n",
              "      <td>92</td>\n",
              "      <td>62925</td>\n",
              "      <td>1</td>\n",
              "      <td>274</td>\n",
              "      <td>39</td>\n",
              "      <td>6</td>\n",
              "      <td>1</td>\n",
              "      <td>10</td>\n",
              "      <td>4</td>\n",
              "      <td>2017</td>\n",
              "    </tr>\n",
              "  </tbody>\n",
              "</table>\n",
              "<p>86750 rows × 12 columns</p>\n",
              "</div>\n",
              "      <button class=\"colab-df-convert\" onclick=\"convertToInteractive('df-dc9d9308-ae06-437a-9635-076de1860b1a')\"\n",
              "              title=\"Convert this dataframe to an interactive table.\"\n",
              "              style=\"display:none;\">\n",
              "        \n",
              "  <svg xmlns=\"http://www.w3.org/2000/svg\" height=\"24px\"viewBox=\"0 0 24 24\"\n",
              "       width=\"24px\">\n",
              "    <path d=\"M0 0h24v24H0V0z\" fill=\"none\"/>\n",
              "    <path d=\"M18.56 5.44l.94 2.06.94-2.06 2.06-.94-2.06-.94-.94-2.06-.94 2.06-2.06.94zm-11 1L8.5 8.5l.94-2.06 2.06-.94-2.06-.94L8.5 2.5l-.94 2.06-2.06.94zm10 10l.94 2.06.94-2.06 2.06-.94-2.06-.94-.94-2.06-.94 2.06-2.06.94z\"/><path d=\"M17.41 7.96l-1.37-1.37c-.4-.4-.92-.59-1.43-.59-.52 0-1.04.2-1.43.59L10.3 9.45l-7.72 7.72c-.78.78-.78 2.05 0 2.83L4 21.41c.39.39.9.59 1.41.59.51 0 1.02-.2 1.41-.59l7.78-7.78 2.81-2.81c.8-.78.8-2.07 0-2.86zM5.41 20L4 18.59l7.72-7.72 1.47 1.35L5.41 20z\"/>\n",
              "  </svg>\n",
              "      </button>\n",
              "      \n",
              "  <style>\n",
              "    .colab-df-container {\n",
              "      display:flex;\n",
              "      flex-wrap:wrap;\n",
              "      gap: 12px;\n",
              "    }\n",
              "\n",
              "    .colab-df-convert {\n",
              "      background-color: #E8F0FE;\n",
              "      border: none;\n",
              "      border-radius: 50%;\n",
              "      cursor: pointer;\n",
              "      display: none;\n",
              "      fill: #1967D2;\n",
              "      height: 32px;\n",
              "      padding: 0 0 0 0;\n",
              "      width: 32px;\n",
              "    }\n",
              "\n",
              "    .colab-df-convert:hover {\n",
              "      background-color: #E2EBFA;\n",
              "      box-shadow: 0px 1px 2px rgba(60, 64, 67, 0.3), 0px 1px 3px 1px rgba(60, 64, 67, 0.15);\n",
              "      fill: #174EA6;\n",
              "    }\n",
              "\n",
              "    [theme=dark] .colab-df-convert {\n",
              "      background-color: #3B4455;\n",
              "      fill: #D2E3FC;\n",
              "    }\n",
              "\n",
              "    [theme=dark] .colab-df-convert:hover {\n",
              "      background-color: #434B5C;\n",
              "      box-shadow: 0px 1px 3px 1px rgba(0, 0, 0, 0.15);\n",
              "      filter: drop-shadow(0px 1px 2px rgba(0, 0, 0, 0.3));\n",
              "      fill: #FFFFFF;\n",
              "    }\n",
              "  </style>\n",
              "\n",
              "      <script>\n",
              "        const buttonEl =\n",
              "          document.querySelector('#df-dc9d9308-ae06-437a-9635-076de1860b1a button.colab-df-convert');\n",
              "        buttonEl.style.display =\n",
              "          google.colab.kernel.accessAllowed ? 'block' : 'none';\n",
              "\n",
              "        async function convertToInteractive(key) {\n",
              "          const element = document.querySelector('#df-dc9d9308-ae06-437a-9635-076de1860b1a');\n",
              "          const dataTable =\n",
              "            await google.colab.kernel.invokeFunction('convertToInteractive',\n",
              "                                                     [key], {});\n",
              "          if (!dataTable) return;\n",
              "\n",
              "          const docLinkHtml = 'Like what you see? Visit the ' +\n",
              "            '<a target=\"_blank\" href=https://colab.research.google.com/notebooks/data_table.ipynb>data table notebook</a>'\n",
              "            + ' to learn more about interactive tables.';\n",
              "          element.innerHTML = '';\n",
              "          dataTable['output_type'] = 'display_data';\n",
              "          await google.colab.output.renderOutput(dataTable, element);\n",
              "          const docLink = document.createElement('div');\n",
              "          docLink.innerHTML = docLinkHtml;\n",
              "          element.appendChild(docLink);\n",
              "        }\n",
              "      </script>\n",
              "    </div>\n",
              "  </div>\n",
              "  "
            ]
          },
          "metadata": {},
          "execution_count": 74
        }
      ]
    },
    {
      "cell_type": "markdown",
      "source": [
        "**2. EDA of dataset**"
      ],
      "metadata": {
        "id": "sz8q4AJX-LFk"
      }
    },
    {
      "cell_type": "code",
      "source": [
        "def EDA (data, cat_feature,num_feature,target,item):\n",
        "  data=data[data['item']==item]\n",
        "  # histogram for continuous variables\n",
        "  for i in num_feature:\n",
        "    fig,axes=plt.subplots(1,1,sharex=False,figsize=(15,10))\n",
        "    fig.suptitle(f'histogram of column {i}')\n",
        "    sns.barplot(x=i,data=data,y=target,palette='Set2')\n",
        "    plt.show()\n",
        "    \n",
        "\n",
        "  #scatter plot for contious varibles\n",
        "  plt.figure(figsize=(15, 10))\n",
        "  for i in num_feature:  \n",
        "    sns.scatterplot(data=data,x=i,y=target)\n",
        "  plt.show()\n",
        "\n",
        "  for i in cat_feature:\n",
        "    plt.figure(figsize=(15, 10))\n",
        "    fig.suptitle(f'counting of column {i}')\n",
        "    data.groupby(i)[target].mean().sort_values().plot(kind='barh')\n",
        "    plt.show()\n",
        "\n",
        "  #correlation heatmap\n",
        "  plt.figure(figsize=(15, 10))\n",
        "  sns.heatmap(data.corr(),cmap='RdBu_r',annot=True)\n",
        "  plt.show()"
      ],
      "metadata": {
        "id": "Pfw2UggM-NG2"
      },
      "execution_count": 75,
      "outputs": []
    },
    {
      "cell_type": "code",
      "source": [
        "num_features=['date']\n",
        "cat_features=['day','week','weekday','month','year','weekend','duration','quarter']\n",
        "EDA(df,cat_features,num_features,'three_month_sale',1)"
      ],
      "metadata": {
        "colab": {
          "base_uri": "https://localhost:8080/",
          "height": 1000
        },
        "id": "L9K_hSXD-TAx",
        "outputId": "1a88980f-e4dc-4d4c-babd-4207fe4e6d97"
      },
      "execution_count": 76,
      "outputs": [
        {
          "output_type": "display_data",
          "data": {
            "text/plain": [
              "<Figure size 1080x720 with 1 Axes>"
            ],
            "image/png": "[encoded data removed]"
          },
          "metadata": {
            "needs_background": "light"
          }
        },
        {
          "output_type": "display_data",
          "data": {
            "text/plain": [
              "<Figure size 1080x720 with 1 Axes>"
            ],
            "image/png": "[encoded data removed]"
          },
          "metadata": {
            "needs_background": "light"
          }
        },
        {
          "output_type": "display_data",
          "data": {
            "text/plain": [
              "<Figure size 1080x720 with 1 Axes>"
            ],
            "image/png": "[encoded data removed]"
          },
          "metadata": {
            "needs_background": "light"
          }
        },
        {
          "output_type": "display_data",
          "data": {
            "text/plain": [
              "<Figure size 1080x720 with 1 Axes>"
            ],
            "image/png": "[encoded data removed]"
          },
          "metadata": {
            "needs_background": "light"
          }
        },
        {
          "output_type": "display_data",
          "data": {
            "text/plain": [
              "<Figure size 1080x720 with 1 Axes>"
            ],
            "image/png": "[encoded data removed]"
          },
          "metadata": {
            "needs_background": "light"
          }
        },
        {
          "output_type": "display_data",
          "data": {
            "text/plain": [
              "<Figure size 1080x720 with 1 Axes>"
            ],
            "image/png": "[encoded data removed]"
          },
          "metadata": {
            "needs_background": "light"
          }
        },
        {
          "output_type": "display_data",
          "data": {
            "text/plain": [
              "<Figure size 1080x720 with 1 Axes>"
            ],
            "image/png": "[encoded data removed]"
          },
          "metadata": {
            "needs_background": "light"
          }
        },
        {
          "output_type": "display_data",
          "data": {
            "text/plain": [
              "<Figure size 1080x720 with 1 Axes>"
            ],
            "image/png": "[encoded data removed]"
          },
          "metadata": {
            "needs_background": "light"
          }
        },
        {
          "output_type": "display_data",
          "data": {
            "text/plain": [
              "<Figure size 1080x720 with 1 Axes>"
            ],
            "image/png": "[encoded data removed]"
          },
          "metadata": {
            "needs_background": "light"
          }
        },
        {
          "output_type": "display_data",
          "data": {
            "text/plain": [
              "<Figure size 1080x720 with 1 Axes>"
            ],
            "image/png": "[encoded data removed]"
          },
          "metadata": {
            "needs_background": "light"
          }
        },
        {
          "output_type": "display_data",
          "data": {
            "text/plain": [
              "<Figure size 1080x720 with 2 Axes>"
            ],
            "image/png": "[encoded data removed]"
          },
          "metadata": {
            "needs_background": "light"
          }
        }
      ]
    },
    {
      "cell_type": "markdown",
      "source": [
        "**3. Splitting the data**"
      ],
      "metadata": {
        "id": "ft2Z8rzt-177"
      }
    },
    {
      "cell_type": "code",
      "source": [
        "df=df.sort_values(by=['date','item'])"
      ],
      "metadata": {
        "id": "Tom6NMt8-0iI"
      },
      "execution_count": 77,
      "outputs": []
    },
    {
      "cell_type": "code",
      "source": [
        "df"
      ],
      "metadata": {
        "colab": {
          "base_uri": "https://localhost:8080/",
          "height": 423
        },
        "id": "cb2g-8Ph-7gr",
        "outputId": "8318fc0b-a0c0-4d5c-f147-d3082c4066cc"
      },
      "execution_count": 78,
      "outputs": [
        {
          "output_type": "execute_result",
          "data": {
            "text/plain": [
              "            date  item  duration  three_month_sale  day  dayofyear  week  \\\n",
              "0     2013-01-01     1        90             12847    1          1     1   \n",
              "1735  2013-01-01     2        90             34650    1          1     1   \n",
              "3470  2013-01-01     3        90             21420    1          1     1   \n",
              "5205  2013-01-01     4        90             12884    1          1     1   \n",
              "6940  2013-01-01     5        90             10630    1          1     1   \n",
              "...          ...   ...       ...               ...  ...        ...   ...   \n",
              "79809 2017-10-01    46        92             56785    1        274    39   \n",
              "81544 2017-10-01    47        92             21132    1        274    39   \n",
              "83279 2017-10-01    48        92             49695    1        274    39   \n",
              "85014 2017-10-01    49        92             27934    1        274    39   \n",
              "86749 2017-10-01    50        92             62925    1        274    39   \n",
              "\n",
              "       weekday  weekend  month  quarter  year  \n",
              "0            1        0      1        1  2013  \n",
              "1735         1        0      1        1  2013  \n",
              "3470         1        0      1        1  2013  \n",
              "5205         1        0      1        1  2013  \n",
              "6940         1        0      1        1  2013  \n",
              "...        ...      ...    ...      ...   ...  \n",
              "79809        6        1     10        4  2017  \n",
              "81544        6        1     10        4  2017  \n",
              "83279        6        1     10        4  2017  \n",
              "85014        6        1     10        4  2017  \n",
              "86749        6        1     10        4  2017  \n",
              "\n",
              "[86750 rows x 12 columns]"
            ],
            "text/html": [
              "\n",
              "  <div id=\"df-ed0e554f-e440-495a-9128-8aee18ecea41\">\n",
              "    <div class=\"colab-df-container\">\n",
              "      <div>\n",
              "<style scoped>\n",
              "    .dataframe tbody tr th:only-of-type {\n",
              "        vertical-align: middle;\n",
              "    }\n",
              "\n",
              "    .dataframe tbody tr th {\n",
              "        vertical-align: top;\n",
              "    }\n",
              "\n",
              "    .dataframe thead th {\n",
              "        text-align: right;\n",
              "    }\n",
              "</style>\n",
              "<table border=\"1\" class=\"dataframe\">\n",
              "  <thead>\n",
              "    <tr style=\"text-align: right;\">\n",
              "      <th></th>\n",
              "      <th>date</th>\n",
              "      <th>item</th>\n",
              "      <th>duration</th>\n",
              "      <th>three_month_sale</th>\n",
              "      <th>day</th>\n",
              "      <th>dayofyear</th>\n",
              "      <th>week</th>\n",
              "      <th>weekday</th>\n",
              "      <th>weekend</th>\n",
              "      <th>month</th>\n",
              "      <th>quarter</th>\n",
              "      <th>year</th>\n",
              "    </tr>\n",
              "  </thead>\n",
              "  <tbody>\n",
              "    <tr>\n",
              "      <th>0</th>\n",
              "      <td>2013-01-01</td>\n",
              "      <td>1</td>\n",
              "      <td>90</td>\n",
              "      <td>12847</td>\n",
              "      <td>1</td>\n",
              "      <td>1</td>\n",
              "      <td>1</td>\n",
              "      <td>1</td>\n",
              "      <td>0</td>\n",
              "      <td>1</td>\n",
              "      <td>1</td>\n",
              "      <td>2013</td>\n",
              "    </tr>\n",
              "    <tr>\n",
              "      <th>1735</th>\n",
              "      <td>2013-01-01</td>\n",
              "      <td>2</td>\n",
              "      <td>90</td>\n",
              "      <td>34650</td>\n",
              "      <td>1</td>\n",
              "      <td>1</td>\n",
              "      <td>1</td>\n",
              "      <td>1</td>\n",
              "      <td>0</td>\n",
              "      <td>1</td>\n",
              "      <td>1</td>\n",
              "      <td>2013</td>\n",
              "    </tr>\n",
              "    <tr>\n",
              "      <th>3470</th>\n",
              "      <td>2013-01-01</td>\n",
              "      <td>3</td>\n",
              "      <td>90</td>\n",
              "      <td>21420</td>\n",
              "      <td>1</td>\n",
              "      <td>1</td>\n",
              "      <td>1</td>\n",
              "      <td>1</td>\n",
              "      <td>0</td>\n",
              "      <td>1</td>\n",
              "      <td>1</td>\n",
              "      <td>2013</td>\n",
              "    </tr>\n",
              "    <tr>\n",
              "      <th>5205</th>\n",
              "      <td>2013-01-01</td>\n",
              "      <td>4</td>\n",
              "      <td>90</td>\n",
              "      <td>12884</td>\n",
              "      <td>1</td>\n",
              "      <td>1</td>\n",
              "      <td>1</td>\n",
              "      <td>1</td>\n",
              "      <td>0</td>\n",
              "      <td>1</td>\n",
              "      <td>1</td>\n",
              "      <td>2013</td>\n",
              "    </tr>\n",
              "    <tr>\n",
              "      <th>6940</th>\n",
              "      <td>2013-01-01</td>\n",
              "      <td>5</td>\n",
              "      <td>90</td>\n",
              "      <td>10630</td>\n",
              "      <td>1</td>\n",
              "      <td>1</td>\n",
              "      <td>1</td>\n",
              "      <td>1</td>\n",
              "      <td>0</td>\n",
              "      <td>1</td>\n",
              "      <td>1</td>\n",
              "      <td>2013</td>\n",
              "    </tr>\n",
              "    <tr>\n",
              "      <th>...</th>\n",
              "      <td>...</td>\n",
              "      <td>...</td>\n",
              "      <td>...</td>\n",
              "      <td>...</td>\n",
              "      <td>...</td>\n",
              "      <td>...</td>\n",
              "      <td>...</td>\n",
              "      <td>...</td>\n",
              "      <td>...</td>\n",
              "      <td>...</td>\n",
              "      <td>...</td>\n",
              "      <td>...</td>\n",
              "    </tr>\n",
              "    <tr>\n",
              "      <th>79809</th>\n",
              "      <td>2017-10-01</td>\n",
              "      <td>46</td>\n",
              "      <td>92</td>\n",
              "      <td>56785</td>\n",
              "      <td>1</td>\n",
              "      <td>274</td>\n",
              "      <td>39</td>\n",
              "      <td>6</td>\n",
              "      <td>1</td>\n",
              "      <td>10</td>\n",
              "      <td>4</td>\n",
              "      <td>2017</td>\n",
              "    </tr>\n",
              "    <tr>\n",
              "      <th>81544</th>\n",
              "      <td>2017-10-01</td>\n",
              "      <td>47</td>\n",
              "      <td>92</td>\n",
              "      <td>21132</td>\n",
              "      <td>1</td>\n",
              "      <td>274</td>\n",
              "      <td>39</td>\n",
              "      <td>6</td>\n",
              "      <td>1</td>\n",
              "      <td>10</td>\n",
              "      <td>4</td>\n",
              "      <td>2017</td>\n",
              "    </tr>\n",
              "    <tr>\n",
              "      <th>83279</th>\n",
              "      <td>2017-10-01</td>\n",
              "      <td>48</td>\n",
              "      <td>92</td>\n",
              "      <td>49695</td>\n",
              "      <td>1</td>\n",
              "      <td>274</td>\n",
              "      <td>39</td>\n",
              "      <td>6</td>\n",
              "      <td>1</td>\n",
              "      <td>10</td>\n",
              "      <td>4</td>\n",
              "      <td>2017</td>\n",
              "    </tr>\n",
              "    <tr>\n",
              "      <th>85014</th>\n",
              "      <td>2017-10-01</td>\n",
              "      <td>49</td>\n",
              "      <td>92</td>\n",
              "      <td>27934</td>\n",
              "      <td>1</td>\n",
              "      <td>274</td>\n",
              "      <td>39</td>\n",
              "      <td>6</td>\n",
              "      <td>1</td>\n",
              "      <td>10</td>\n",
              "      <td>4</td>\n",
              "      <td>2017</td>\n",
              "    </tr>\n",
              "    <tr>\n",
              "      <th>86749</th>\n",
              "      <td>2017-10-01</td>\n",
              "      <td>50</td>\n",
              "      <td>92</td>\n",
              "      <td>62925</td>\n",
              "      <td>1</td>\n",
              "      <td>274</td>\n",
              "      <td>39</td>\n",
              "      <td>6</td>\n",
              "      <td>1</td>\n",
              "      <td>10</td>\n",
              "      <td>4</td>\n",
              "      <td>2017</td>\n",
              "    </tr>\n",
              "  </tbody>\n",
              "</table>\n",
              "<p>86750 rows × 12 columns</p>\n",
              "</div>\n",
              "      <button class=\"colab-df-convert\" onclick=\"convertToInteractive('df-ed0e554f-e440-495a-9128-8aee18ecea41')\"\n",
              "              title=\"Convert this dataframe to an interactive table.\"\n",
              "              style=\"display:none;\">\n",
              "        \n",
              "  <svg xmlns=\"http://www.w3.org/2000/svg\" height=\"24px\"viewBox=\"0 0 24 24\"\n",
              "       width=\"24px\">\n",
              "    <path d=\"M0 0h24v24H0V0z\" fill=\"none\"/>\n",
              "    <path d=\"M18.56 5.44l.94 2.06.94-2.06 2.06-.94-2.06-.94-.94-2.06-.94 2.06-2.06.94zm-11 1L8.5 8.5l.94-2.06 2.06-.94-2.06-.94L8.5 2.5l-.94 2.06-2.06.94zm10 10l.94 2.06.94-2.06 2.06-.94-2.06-.94-.94-2.06-.94 2.06-2.06.94z\"/><path d=\"M17.41 7.96l-1.37-1.37c-.4-.4-.92-.59-1.43-.59-.52 0-1.04.2-1.43.59L10.3 9.45l-7.72 7.72c-.78.78-.78 2.05 0 2.83L4 21.41c.39.39.9.59 1.41.59.51 0 1.02-.2 1.41-.59l7.78-7.78 2.81-2.81c.8-.78.8-2.07 0-2.86zM5.41 20L4 18.59l7.72-7.72 1.47 1.35L5.41 20z\"/>\n",
              "  </svg>\n",
              "      </button>\n",
              "      \n",
              "  <style>\n",
              "    .colab-df-container {\n",
              "      display:flex;\n",
              "      flex-wrap:wrap;\n",
              "      gap: 12px;\n",
              "    }\n",
              "\n",
              "    .colab-df-convert {\n",
              "      background-color: #E8F0FE;\n",
              "      border: none;\n",
              "      border-radius: 50%;\n",
              "      cursor: pointer;\n",
              "      display: none;\n",
              "      fill: #1967D2;\n",
              "      height: 32px;\n",
              "      padding: 0 0 0 0;\n",
              "      width: 32px;\n",
              "    }\n",
              "\n",
              "    .colab-df-convert:hover {\n",
              "      background-color: #E2EBFA;\n",
              "      box-shadow: 0px 1px 2px rgba(60, 64, 67, 0.3), 0px 1px 3px 1px rgba(60, 64, 67, 0.15);\n",
              "      fill: #174EA6;\n",
              "    }\n",
              "\n",
              "    [theme=dark] .colab-df-convert {\n",
              "      background-color: #3B4455;\n",
              "      fill: #D2E3FC;\n",
              "    }\n",
              "\n",
              "    [theme=dark] .colab-df-convert:hover {\n",
              "      background-color: #434B5C;\n",
              "      box-shadow: 0px 1px 3px 1px rgba(0, 0, 0, 0.15);\n",
              "      filter: drop-shadow(0px 1px 2px rgba(0, 0, 0, 0.3));\n",
              "      fill: #FFFFFF;\n",
              "    }\n",
              "  </style>\n",
              "\n",
              "      <script>\n",
              "        const buttonEl =\n",
              "          document.querySelector('#df-ed0e554f-e440-495a-9128-8aee18ecea41 button.colab-df-convert');\n",
              "        buttonEl.style.display =\n",
              "          google.colab.kernel.accessAllowed ? 'block' : 'none';\n",
              "\n",
              "        async function convertToInteractive(key) {\n",
              "          const element = document.querySelector('#df-ed0e554f-e440-495a-9128-8aee18ecea41');\n",
              "          const dataTable =\n",
              "            await google.colab.kernel.invokeFunction('convertToInteractive',\n",
              "                                                     [key], {});\n",
              "          if (!dataTable) return;\n",
              "\n",
              "          const docLinkHtml = 'Like what you see? Visit the ' +\n",
              "            '<a target=\"_blank\" href=https://colab.research.google.com/notebooks/data_table.ipynb>data table notebook</a>'\n",
              "            + ' to learn more about interactive tables.';\n",
              "          element.innerHTML = '';\n",
              "          dataTable['output_type'] = 'display_data';\n",
              "          await google.colab.output.renderOutput(dataTable, element);\n",
              "          const docLink = document.createElement('div');\n",
              "          docLink.innerHTML = docLinkHtml;\n",
              "          element.appendChild(docLink);\n",
              "        }\n",
              "      </script>\n",
              "    </div>\n",
              "  </div>\n",
              "  "
            ]
          },
          "metadata": {},
          "execution_count": 78
        }
      ]
    },
    {
      "cell_type": "code",
      "source": [
        "#unwanted_col=['day','week','weekday','weekend']                    \n",
        "#df=delete(df,unwanted_col)                # One day sales ware converted into three month sales both of them gives same informations.\n",
        "#df"
      ],
      "metadata": {
        "id": "AKx47cXB_O-N"
      },
      "execution_count": 79,
      "outputs": []
    },
    {
      "cell_type": "code",
      "source": [
        "split_date=pd.to_datetime('24-07-2016')\n",
        "X_train=df[df['date']==split_date].drop(['three_month_sale','date','weekend'],axis=1).values\n",
        "y_train=df[df['date']==split_date].drop(['dayofyear','month','year','item','date','duration','day','week','weekday','weekend','quarter'],axis=1).values\n",
        "     \n"
      ],
      "metadata": {
        "id": "kHO8wlTTnDFN"
      },
      "execution_count": 80,
      "outputs": []
    },
    {
      "cell_type": "code",
      "source": [
        "split_date"
      ],
      "metadata": {
        "colab": {
          "base_uri": "https://localhost:8080/"
        },
        "id": "fX-ZsX1Q_qfV",
        "outputId": "15bd1479-d91f-4a60-9d99-e9ca05ec734b"
      },
      "execution_count": 81,
      "outputs": [
        {
          "output_type": "execute_result",
          "data": {
            "text/plain": [
              "Timestamp('2016-07-24 00:00:00')"
            ]
          },
          "metadata": {},
          "execution_count": 81
        }
      ]
    },
    {
      "cell_type": "code",
      "source": [
        "y_train=y_train.flatten()\n",
        "y_test=y_test.flatten()"
      ],
      "metadata": {
        "id": "MfsateagAl4D"
      },
      "execution_count": 82,
      "outputs": []
    },
    {
      "cell_type": "markdown",
      "source": [
        "**4. Scaling the data**"
      ],
      "metadata": {
        "id": "ZE7LblSXAjEp"
      }
    },
    {
      "cell_type": "code",
      "source": [
        "def scaling(train,test):                               # scaling the data for important for KNN,voting regressor \n",
        "  from sklearn.preprocessing import StandardScaler\n",
        "  scaler=StandardScaler()\n",
        "  #for ix,i in enumerate(features):\n",
        "  scaler=scaler.fit(train)\n",
        "  X_train_scale=scaler.transform(train)\n",
        "  X_test_scale=scaler.transform(test)\n",
        "  return X_train_scale,X_test_scale"
      ],
      "metadata": {
        "id": "22Us0Bx-AuBE"
      },
      "execution_count": 83,
      "outputs": []
    },
    {
      "cell_type": "code",
      "source": [
        "X_test"
      ],
      "metadata": {
        "colab": {
          "base_uri": "https://localhost:8080/"
        },
        "id": "FFMKE2_jAgvv",
        "outputId": "041348bf-4c94-4e00-a0bd-1f7db6211cfe"
      },
      "execution_count": 84,
      "outputs": [
        {
          "output_type": "execute_result",
          "data": {
            "text/plain": [
              "array([[   1,   92,   24, ...,    7,    3, 2016],\n",
              "       [   2,   92,   24, ...,    7,    3, 2016],\n",
              "       [   3,   92,   24, ...,    7,    3, 2016],\n",
              "       ...,\n",
              "       [  48,   92,    1, ...,   10,    4, 2017],\n",
              "       [  49,   92,    1, ...,   10,    4, 2017],\n",
              "       [  50,   92,    1, ...,   10,    4, 2017]])"
            ]
          },
          "metadata": {},
          "execution_count": 84
        }
      ]
    },
    {
      "cell_type": "code",
      "source": [
        "y_test"
      ],
      "metadata": {
        "colab": {
          "base_uri": "https://localhost:8080/"
        },
        "id": "qXr5Lgh6EV6l",
        "outputId": "a3e1ee5b-23c8-46ca-b003-097b0f01c4fa"
      },
      "execution_count": 85,
      "outputs": [
        {
          "output_type": "execute_result",
          "data": {
            "text/plain": [
              "array([23645, 63295, 39317, ..., 49695, 27934, 62925])"
            ]
          },
          "metadata": {},
          "execution_count": 85
        }
      ]
    },
    {
      "cell_type": "code",
      "source": [
        "X_train_scale,X_test_scale=scaling(X_train,X_test)\n",
        "print(X_train_scale.shape,X_test_scale.shape)"
      ],
      "metadata": {
        "colab": {
          "base_uri": "https://localhost:8080/"
        },
        "id": "zQeTTQYAEifO",
        "outputId": "c0722d3a-6403-4e3d-f20c-73d8ca692a3c"
      },
      "execution_count": 86,
      "outputs": [
        {
          "output_type": "stream",
          "name": "stdout",
          "text": [
            "(50, 9) (21750, 9)\n"
          ]
        }
      ]
    },
    {
      "cell_type": "markdown",
      "source": [
        "**5. Build the model**"
      ],
      "metadata": {
        "id": "nQpOS5HsEqWH"
      }
    },
    {
      "cell_type": "code",
      "source": [
        "from sklearn.linear_model import LinearRegression   # for linear regression\n",
        "from sklearn.neighbors import KNeighborsRegressor   # for KNN regression\n",
        "from sklearn.tree import DecisionTreeRegressor      # for Decision tree regression\n",
        "from sklearn.ensemble import RandomForestRegressor  # for Random Forest regression\n",
        "import xgboost \n",
        "from xgboost import XGBRegressor                    # for XGBoost regression\n",
        "from sklearn.ensemble import VotingRegressor        # for voting regressoin"
      ],
      "metadata": {
        "id": "wBMrBl-eEsvN"
      },
      "execution_count": 87,
      "outputs": []
    },
    {
      "cell_type": "code",
      "source": [
        "def algorithm (model,X_train, X_test, y_train, y_test,k):    # definition of model building for all models\n",
        "  from sklearn.model_selection import cross_val_score\n",
        "  from sklearn.metrics import mean_squared_error,mean_absolute_error\n",
        "  mod=model\n",
        "  mod.fit(X_train, y_train)                                  # fit the training set into the model\n",
        "  y_predict_mod=mod.predict(X_test)                          # predict the result testing set\n",
        "  result= pd.DataFrame({'actual': y_test, 'predict': y_predict_mod}) # dataframe of actual and predicted\n",
        "  score=mod.score(X_test,y_test)                             # score of prediction\n",
        "  MAE=mean_absolute_error(y_test,y_predict_mod)              # squared error of prediction\n",
        "  print('for ' ,k ,' value ',\"Train Accuracy : \",round(mod.score(X_train,y_train),3),\"Val Accuracy :\" ,round(np.mean(cross_val_score_time(mod, X_train, y_train)),3))\n",
        "  return y_predict_mod,result,score,mod,MAE"
      ],
      "metadata": {
        "id": "awVq6VivFAU_"
      },
      "execution_count": 88,
      "outputs": []
    },
    {
      "cell_type": "code",
      "source": [
        "def cross_val_score_time(mod,X_train,y_train):\n",
        "  from sklearn.model_selection import TimeSeriesSplit\n",
        "  from sklearn.metrics import r2_score\n",
        "  tscv = TimeSeriesSplit(n_splits=3)\n",
        "  scores=[]\n",
        "  for i in tscv.split(X_train):\n",
        "    X_tr,X_te=pd.DataFrame(list(map(X_train.__getitem__,i[0]))),pd.DataFrame(list(map(X_train.__getitem__,i[1])))\n",
        "    y_tr,y_te=pd.Series(list(map(y_train.__getitem__,i[0]))),pd.Series(list(map(y_train.__getitem__,i[1])))\n",
        "    X_tr=X_tr.values\n",
        "    X_te=X_te.values\n",
        "    y_tr=y_tr.values\n",
        "    y_te=y_te.values\n",
        "    #print(X_tr.shape)\n",
        "    #print(X_te.shape)\n",
        "    mod.fit(X_tr,y_tr)\n",
        "    pred=mod.predict(X_te)\n",
        "    sco=r2_score(y_te,pred)\n",
        "    scores.append(sco)\n",
        "  return scores"
      ],
      "metadata": {
        "id": "OcFJMpa9FDwD"
      },
      "execution_count": 89,
      "outputs": []
    },
    {
      "cell_type": "markdown",
      "source": [
        "A) Linear Regression algorithm"
      ],
      "metadata": {
        "id": "at7dZH1zFMjo"
      }
    },
    {
      "cell_type": "code",
      "source": [
        "y_predict_lr,result_L,score_L,lin,MAE_L=algorithm(LinearRegression(),X_train_scale, X_test_scale, y_train, y_test,1)\n",
        "print(result_L.head())\n",
        "print('MAE error of linear regeression is ' ,MAE_L)\n",
        "print(' Score of LinearRegression algorithmn is ', score_L * 100)"
      ],
      "metadata": {
        "colab": {
          "base_uri": "https://localhost:8080/"
        },
        "id": "BDFVTCeWkXLw",
        "outputId": "a6cc42d6-4090-43ce-cd2f-f6998cfa6196"
      },
      "execution_count": 90,
      "outputs": [
        {
          "output_type": "stream",
          "name": "stdout",
          "text": [
            "for  1  value  Train Accuracy :  0.006 Val Accuracy : -2.003\n",
            "   actual       predict\n",
            "0   23645  59425.934118\n",
            "1   63295  59304.678031\n",
            "2   39317  59183.421945\n",
            "3   23722  59062.165858\n",
            "4   19776  58940.909772\n",
            "MAE error of linear regeression is  20068.814368596544\n",
            " Score of LinearRegression algorithmn is  -1.3281570708200574\n"
          ]
        }
      ]
    },
    {
      "cell_type": "code",
      "source": [
        "for i in range (1,10):\n",
        "  algorithm(KNeighborsRegressor(i),X_train_scale, X_test_scale, y_train, y_test,i)"
      ],
      "metadata": {
        "colab": {
          "base_uri": "https://localhost:8080/"
        },
        "id": "yX5PgF1sqy_f",
        "outputId": "ae651f87-7e9a-414a-fdf1-2dfecd9538cb"
      },
      "execution_count": 92,
      "outputs": [
        {
          "output_type": "stream",
          "name": "stdout",
          "text": [
            "for  1  value  Train Accuracy :  1.0 Val Accuracy : -1.519\n",
            "for  2  value  Train Accuracy :  0.518 Val Accuracy : -0.371\n",
            "for  3  value  Train Accuracy :  0.275 Val Accuracy : -0.604\n",
            "for  4  value  Train Accuracy :  0.119 Val Accuracy : -0.579\n",
            "for  5  value  Train Accuracy :  0.137 Val Accuracy : -0.351\n",
            "for  6  value  Train Accuracy :  0.231 Val Accuracy : -0.337\n",
            "for  7  value  Train Accuracy :  0.216 Val Accuracy : -0.3\n",
            "for  8  value  Train Accuracy :  0.176 Val Accuracy : -0.286\n",
            "for  9  value  Train Accuracy :  0.176 Val Accuracy : -0.224\n"
          ]
        }
      ]
    },
    {
      "cell_type": "code",
      "source": [
        "y_predict_knn,result_K,score_K,knn,MAE_K=algorithm(KNeighborsRegressor(1),X_train_scale, X_test_scale, y_train, y_test,1)\n",
        "print(result_K.tail())\n",
        "print('MAE error of knn regeression is ' , MAE_K)\n",
        "print(' Score of KNN Regression algorithmn is ', score_K * 100)"
      ],
      "metadata": {
        "colab": {
          "base_uri": "https://localhost:8080/"
        },
        "id": "DLfqm2-jq5bi",
        "outputId": "576a9df5-00de-4eef-9dc3-32623079437f"
      },
      "execution_count": 93,
      "outputs": [
        {
          "output_type": "stream",
          "name": "stdout",
          "text": [
            "for  1  value  Train Accuracy :  1.0 Val Accuracy : -1.519\n",
            "       actual  predict\n",
            "21745   56785  63330.0\n",
            "21746   21132  23712.0\n",
            "21747   49695  55484.0\n",
            "21748   27934  31590.0\n",
            "21749   62925  71525.0\n",
            "MAE error of knn regeression is  7070.725885057472\n",
            " Score of KNN Regression algorithmn is  84.02128517696642\n"
          ]
        }
      ]
    },
    {
      "cell_type": "markdown",
      "source": [
        "**C)Decision Tree Regression model**"
      ],
      "metadata": {
        "id": "iTj4862Uq_SO"
      }
    },
    {
      "cell_type": "code",
      "source": [
        "for i in range(1,25):\n",
        "  algorithm(DecisionTreeRegressor(max_depth=i,random_state=97),X_train, X_test, y_train, y_test,i)"
      ],
      "metadata": {
        "colab": {
          "base_uri": "https://localhost:8080/"
        },
        "id": "8cMhrG2jq8tE",
        "outputId": "95b712c2-b421-486e-fad0-ab28b4176630"
      },
      "execution_count": 94,
      "outputs": [
        {
          "output_type": "stream",
          "name": "stdout",
          "text": [
            "for  1  value  Train Accuracy :  0.106 Val Accuracy : -0.35\n",
            "for  2  value  Train Accuracy :  0.242 Val Accuracy : -0.303\n",
            "for  3  value  Train Accuracy :  0.32 Val Accuracy : -0.192\n",
            "for  4  value  Train Accuracy :  0.399 Val Accuracy : -0.157\n",
            "for  5  value  Train Accuracy :  0.482 Val Accuracy : -1.486\n",
            "for  6  value  Train Accuracy :  0.577 Val Accuracy : -1.469\n",
            "for  7  value  Train Accuracy :  0.638 Val Accuracy : -1.523\n",
            "for  8  value  Train Accuracy :  0.692 Val Accuracy : -1.519\n",
            "for  9  value  Train Accuracy :  0.745 Val Accuracy : -1.519\n",
            "for  10  value  Train Accuracy :  0.78 Val Accuracy : -1.519\n",
            "for  11  value  Train Accuracy :  0.805 Val Accuracy : -1.519\n",
            "for  12  value  Train Accuracy :  0.84 Val Accuracy : -1.519\n",
            "for  13  value  Train Accuracy :  0.864 Val Accuracy : -1.519\n",
            "for  14  value  Train Accuracy :  0.916 Val Accuracy : -1.519\n",
            "for  15  value  Train Accuracy :  0.969 Val Accuracy : -1.519\n",
            "for  16  value  Train Accuracy :  0.992 Val Accuracy : -1.519\n",
            "for  17  value  Train Accuracy :  0.995 Val Accuracy : -1.519\n",
            "for  18  value  Train Accuracy :  1.0 Val Accuracy : -1.519\n",
            "for  19  value  Train Accuracy :  1.0 Val Accuracy : -1.519\n",
            "for  20  value  Train Accuracy :  1.0 Val Accuracy : -1.519\n",
            "for  21  value  Train Accuracy :  1.0 Val Accuracy : -1.519\n",
            "for  22  value  Train Accuracy :  1.0 Val Accuracy : -1.519\n",
            "for  23  value  Train Accuracy :  1.0 Val Accuracy : -1.519\n",
            "for  24  value  Train Accuracy :  1.0 Val Accuracy : -1.519\n"
          ]
        }
      ]
    },
    {
      "cell_type": "code",
      "source": [
        "y_predict_dt,result_D,score_D,dt,MAE_D=algorithm(DecisionTreeRegressor(max_depth=24,random_state=97),X_train_scale, X_test_scale, y_train, y_test,24)\n",
        "print(result_D.head())\n",
        "print('MAE error of Decision Tree regeression is ' , MAE_D)\n",
        "print(' Score of Decision Tree Regression algorithmn is ', score_D * 100)"
      ],
      "metadata": {
        "colab": {
          "base_uri": "https://localhost:8080/"
        },
        "id": "PawennrurH2Y",
        "outputId": "79308fee-43eb-4ed7-d3d9-cbc3b01a6806"
      },
      "execution_count": 95,
      "outputs": [
        {
          "output_type": "stream",
          "name": "stdout",
          "text": [
            "for  24  value  Train Accuracy :  1.0 Val Accuracy : -1.519\n",
            "   actual  predict\n",
            "0   23645  23645.0\n",
            "1   63295  63295.0\n",
            "2   39317  39317.0\n",
            "3   23722  23722.0\n",
            "4   19776  19776.0\n",
            "MAE error of Decision Tree regeression is  7070.725885057472\n",
            " Score of Decision Tree Regression algorithmn is  84.02128517696642\n"
          ]
        }
      ]
    },
    {
      "cell_type": "markdown",
      "source": [
        "**D) Random Forest Regression model**"
      ],
      "metadata": {
        "id": "4Tbu4xdmrNij"
      }
    },
    {
      "cell_type": "code",
      "source": [
        "for i in [10,20,30,40,50,60,70,80,90,100]:\n",
        "  algorithm(RandomForestRegressor(max_depth=5,n_estimators=i,random_state=97,max_features='sqrt'),X_train_scale, X_test_scale, y_train, y_test,i)"
      ],
      "metadata": {
        "colab": {
          "base_uri": "https://localhost:8080/"
        },
        "id": "8SRe1IVerRJd",
        "outputId": "b3885375-c336-4a89-b1c6-562c8c5037c7"
      },
      "execution_count": 96,
      "outputs": [
        {
          "output_type": "stream",
          "name": "stdout",
          "text": [
            "for  10  value  Train Accuracy :  0.527 Val Accuracy : -0.518\n",
            "for  20  value  Train Accuracy :  0.551 Val Accuracy : -0.325\n",
            "for  30  value  Train Accuracy :  0.549 Val Accuracy : -0.335\n",
            "for  40  value  Train Accuracy :  0.541 Val Accuracy : -0.294\n",
            "for  50  value  Train Accuracy :  0.538 Val Accuracy : -0.382\n",
            "for  60  value  Train Accuracy :  0.541 Val Accuracy : -0.408\n",
            "for  70  value  Train Accuracy :  0.542 Val Accuracy : -0.44\n",
            "for  80  value  Train Accuracy :  0.536 Val Accuracy : -0.464\n",
            "for  90  value  Train Accuracy :  0.54 Val Accuracy : -0.476\n",
            "for  100  value  Train Accuracy :  0.543 Val Accuracy : -0.46\n"
          ]
        }
      ]
    },
    {
      "cell_type": "code",
      "source": [
        "y_predict_rfr,result_R,score_R,rfr,MAE_R=algorithm(RandomForestRegressor(max_depth=5,n_estimators=40,random_state=97,max_features='sqrt'),X_train_scale, X_test_scale, y_train, y_test,40)\n",
        "print(result_R)\n",
        "print('MAE error of Random forest regeression is ' , MAE_R)\n",
        "print(' Score of random forest regresssion is ', score_R * 100)"
      ],
      "metadata": {
        "colab": {
          "base_uri": "https://localhost:8080/"
        },
        "id": "yPeIVJtRrboq",
        "outputId": "697afd44-e71d-454e-ab09-ba6b304f26d1"
      },
      "execution_count": 97,
      "outputs": [
        {
          "output_type": "stream",
          "name": "stdout",
          "text": [
            "for  40  value  Train Accuracy :  0.541 Val Accuracy : -0.294\n",
            "       actual       predict\n",
            "0       23645  35933.725000\n",
            "1       63295  52710.181667\n",
            "2       39317  44323.960833\n",
            "3       23722  30891.885833\n",
            "4       19776  25790.785833\n",
            "...       ...           ...\n",
            "21745   56785  60739.716815\n",
            "21746   21132  39926.545982\n",
            "21747   49695  43716.611815\n",
            "21748   27934  44597.478681\n",
            "21749   62925  61384.389236\n",
            "\n",
            "[21750 rows x 2 columns]\n",
            "MAE error of Random forest regeression is  14196.475583158883\n",
            " Score of random forest regresssion is  46.33761155846597\n"
          ]
        }
      ]
    },
    {
      "cell_type": "markdown",
      "source": [
        "**D)Xgboost Regression model**"
      ],
      "metadata": {
        "id": "dG8X7J1Rrigt"
      }
    },
    {
      "cell_type": "code",
      "source": [
        "for i in np.arange(0.1,1.1,0.1):\n",
        "  algorithm(XGBRegressor(learning_rate=i,n_estimators= 200,random_state=97,objective='reg:squarederror'),X_train_scale, X_test_scale, y_train, y_test,i)"
      ],
      "metadata": {
        "colab": {
          "base_uri": "https://localhost:8080/"
        },
        "id": "UqyXIceHrfBh",
        "outputId": "1f8d61a1-0f9b-4d77-fef2-5a24fef72b18"
      },
      "execution_count": 98,
      "outputs": [
        {
          "output_type": "stream",
          "name": "stdout",
          "text": [
            "for  0.1  value  Train Accuracy :  0.999 Val Accuracy : -1.489\n",
            "for  0.2  value  Train Accuracy :  1.0 Val Accuracy : -1.518\n",
            "for  0.30000000000000004  value  Train Accuracy :  1.0 Val Accuracy : -1.519\n",
            "for  0.4  value  Train Accuracy :  1.0 Val Accuracy : -1.519\n",
            "for  0.5  value  Train Accuracy :  1.0 Val Accuracy : -1.519\n",
            "for  0.6  value  Train Accuracy :  1.0 Val Accuracy : -1.519\n",
            "for  0.7000000000000001  value  Train Accuracy :  1.0 Val Accuracy : -1.519\n",
            "for  0.8  value  Train Accuracy :  1.0 Val Accuracy : -1.519\n",
            "for  0.9  value  Train Accuracy :  1.0 Val Accuracy : -1.519\n",
            "for  1.0  value  Train Accuracy :  1.0 Val Accuracy : -1.519\n"
          ]
        }
      ]
    },
    {
      "cell_type": "code",
      "source": [
        "for i in np.arange(0.45,0.55,0.01):\n",
        "  algorithm(XGBRegressor(learning_rate=i,n_estimators= 500,random_state=97,objective='reg:squarederror'),X_train_scale, X_test_scale, y_train, y_test,i)"
      ],
      "metadata": {
        "colab": {
          "base_uri": "https://localhost:8080/"
        },
        "id": "bf_0Dhlxr360",
        "outputId": "dca7b3e9-7362-43dc-d346-8ed4c7b67d40"
      },
      "execution_count": 102,
      "outputs": [
        {
          "output_type": "stream",
          "name": "stdout",
          "text": [
            "for  0.45  value  Train Accuracy :  1.0 Val Accuracy : -1.519\n",
            "for  0.46  value  Train Accuracy :  1.0 Val Accuracy : -1.519\n",
            "for  0.47000000000000003  value  Train Accuracy :  1.0 Val Accuracy : -1.519\n",
            "for  0.48000000000000004  value  Train Accuracy :  1.0 Val Accuracy : -1.519\n",
            "for  0.49000000000000005  value  Train Accuracy :  1.0 Val Accuracy : -1.519\n",
            "for  0.5  value  Train Accuracy :  1.0 Val Accuracy : -1.519\n",
            "for  0.51  value  Train Accuracy :  1.0 Val Accuracy : -1.519\n",
            "for  0.52  value  Train Accuracy :  1.0 Val Accuracy : -1.519\n",
            "for  0.53  value  Train Accuracy :  1.0 Val Accuracy : -1.519\n",
            "for  0.54  value  Train Accuracy :  1.0 Val Accuracy : -1.519\n",
            "for  0.55  value  Train Accuracy :  1.0 Val Accuracy : -1.519\n"
          ]
        }
      ]
    },
    {
      "cell_type": "code",
      "source": [
        "y_predict_Xgb,result_X,score_X,Xgb,MAE_X=algorithm(XGBRegressor(learning_rate=0.5,n_estimators= 200,random_state=97,objective='reg:squarederror'),X_train_scale, X_test_scale, y_train, y_test,0.5)\n",
        "print(result_X)\n",
        "print('MAE error of XGBoost regeression is ' , MAE_X)\n",
        "print(' Score of Xgboost regression is ', score_X * 100)"
      ],
      "metadata": {
        "colab": {
          "base_uri": "https://localhost:8080/"
        },
        "id": "Fu_9IuH5r_Qt",
        "outputId": "8af80c99-1cea-4846-d337-ea9600e84e11"
      },
      "execution_count": 103,
      "outputs": [
        {
          "output_type": "stream",
          "name": "stdout",
          "text": [
            "for  0.5  value  Train Accuracy :  1.0 Val Accuracy : -1.519\n",
            "       actual       predict\n",
            "0       23645  23645.003906\n",
            "1       63295  63294.992188\n",
            "2       39317  39317.007812\n",
            "3       23722  23721.988281\n",
            "4       19776  19776.013672\n",
            "...       ...           ...\n",
            "21745   56785  63330.000000\n",
            "21746   21132  23712.007812\n",
            "21747   49695  55483.992188\n",
            "21748   27934  31590.007812\n",
            "21749   62925  71524.984375\n",
            "\n",
            "[21750 rows x 2 columns]\n",
            "MAE error of XGBoost regeression is  7070.725850484914\n",
            " Score of Xgboost regression is  84.02128973535466\n"
          ]
        }
      ]
    },
    {
      "cell_type": "markdown",
      "source": [
        "**F)Voting Regressor algorithm**"
      ],
      "metadata": {
        "id": "iNAldNq3sCPr"
      }
    },
    {
      "cell_type": "code",
      "source": [
        "y_predict_vot,result_V,score_V,vot,MAE_V=algorithm(VotingRegressor(estimators= [('KNN',knn),('DT',dt),('XGB',Xgb)]),X_train_scale, X_test_scale, y_train, y_test,'4 models')\n",
        "print(result_V)\n",
        "print('MAE error of voting regeression is ' , MAE_V)\n",
        "print(' Score of Voting regression algorithmn is ', score_V * 100)\n",
        "     "
      ],
      "metadata": {
        "colab": {
          "base_uri": "https://localhost:8080/"
        },
        "id": "fOtCcrPmsFSq",
        "outputId": "3fadf04b-2c28-430a-9a6a-5c525bcde3df"
      },
      "execution_count": 104,
      "outputs": [
        {
          "output_type": "stream",
          "name": "stdout",
          "text": [
            "for  4 models  value  Train Accuracy :  1.0 Val Accuracy : -1.519\n",
            "       actual       predict\n",
            "0       23645  23645.001302\n",
            "1       63295  63294.997396\n",
            "2       39317  39317.002604\n",
            "3       23722  23721.996094\n",
            "4       19776  19776.004557\n",
            "...       ...           ...\n",
            "21745   56785  63330.000000\n",
            "21746   21132  23712.002604\n",
            "21747   49695  55483.997396\n",
            "21748   27934  31590.002604\n",
            "21749   62925  71524.994792\n",
            "\n",
            "[21750 rows x 2 columns]\n",
            "MAE error of voting regeression is  7070.725873533286\n",
            " Score of Voting regression algorithmn is  84.02128669643585\n"
          ]
        }
      ]
    },
    {
      "cell_type": "markdown",
      "source": [
        "**6.Evaluation metrics**"
      ],
      "metadata": {
        "id": "uLSOxU4EsLEL"
      }
    },
    {
      "cell_type": "code",
      "source": [
        "from sklearn.metrics import r2_score          # R2 score  is suitable for regression problem for evaluavating the model"
      ],
      "metadata": {
        "id": "7osQgrfgsQ8m"
      },
      "execution_count": 105,
      "outputs": []
    },
    {
      "cell_type": "code",
      "source": [
        "def evaluate(mod,X_test,y_test,predict,result):\n",
        "  R2_score=r2_score(y_test,predict)\n",
        "  plt.figure(figsize=(20,10))\n",
        "  sns.jointplot(x=y_test,y=predict,data=result,kind='reg')   # plottig the graph between actual and predicted\n",
        "  plt.show()\n",
        "  print('R2 score of ',mod,' : ', R2_score) "
      ],
      "metadata": {
        "id": "r39TevFfsI2k"
      },
      "execution_count": 106,
      "outputs": []
    },
    {
      "cell_type": "markdown",
      "source": [
        "**i) Evaluation metric for logistic regression algorithm**"
      ],
      "metadata": {
        "id": "q_SfxtilsayT"
      }
    },
    {
      "cell_type": "code",
      "source": [
        "evaluate(lin,X_test_scale,y_test,y_predict_lr,result_L)"
      ],
      "metadata": {
        "colab": {
          "base_uri": "https://localhost:8080/",
          "height": 477
        },
        "id": "4ViYh3KAsYkO",
        "outputId": "5b60818b-77fb-4da1-b3dc-aa571ab12bd6"
      },
      "execution_count": 107,
      "outputs": [
        {
          "output_type": "display_data",
          "data": {
            "text/plain": [
              "<Figure size 1440x720 with 0 Axes>"
            ]
          },
          "metadata": {}
        },
        {
          "output_type": "display_data",
          "data": {
            "text/plain": [
              "<Figure size 432x432 with 3 Axes>"
            ],
            "image/png": "[encoded data removed]"
          },
          "metadata": {
            "needs_background": "light"
          }
        },
        {
          "output_type": "stream",
          "name": "stdout",
          "text": [
            "R2 score of  LinearRegression()  :  -0.013281570708200574\n"
          ]
        }
      ]
    },
    {
      "cell_type": "markdown",
      "source": [
        "**ii) Evaluation metric for KNN classifier algorithm**"
      ],
      "metadata": {
        "id": "4Rz6q3q3swR2"
      }
    },
    {
      "cell_type": "code",
      "source": [
        "evaluate(knn,X_test_scale,y_test,y_predict_knn,result_K)"
      ],
      "metadata": {
        "colab": {
          "base_uri": "https://localhost:8080/",
          "height": 477
        },
        "id": "XhXqFW8us1DL",
        "outputId": "54711aba-be35-4335-c6cb-a49444010729"
      },
      "execution_count": 108,
      "outputs": [
        {
          "output_type": "display_data",
          "data": {
            "text/plain": [
              "<Figure size 1440x720 with 0 Axes>"
            ]
          },
          "metadata": {}
        },
        {
          "output_type": "display_data",
          "data": {
            "text/plain": [
              "<Figure size 432x432 with 3 Axes>"
            ],
            "image/png": "[encoded data removed]"
          },
          "metadata": {
            "needs_background": "light"
          }
        },
        {
          "output_type": "stream",
          "name": "stdout",
          "text": [
            "R2 score of  KNeighborsRegressor(n_neighbors=1)  :  0.8402128517696641\n"
          ]
        }
      ]
    },
    {
      "cell_type": "markdown",
      "source": [
        "**iii) Evaluation metric for Decision Tree classifier algorithm**"
      ],
      "metadata": {
        "id": "LcKwVa5Qs467"
      }
    },
    {
      "cell_type": "code",
      "source": [
        "evaluate(dt,X_test_scale,y_test,y_predict_dt,result_D)"
      ],
      "metadata": {
        "colab": {
          "base_uri": "https://localhost:8080/",
          "height": 477
        },
        "id": "Zf956NZds8ti",
        "outputId": "4ceb4156-b305-42d6-9e81-4c9e091d8e27"
      },
      "execution_count": 109,
      "outputs": [
        {
          "output_type": "display_data",
          "data": {
            "text/plain": [
              "<Figure size 1440x720 with 0 Axes>"
            ]
          },
          "metadata": {}
        },
        {
          "output_type": "display_data",
          "data": {
            "text/plain": [
              "<Figure size 432x432 with 3 Axes>"
            ],
            "image/png": "[encoded data removed]"
          },
          "metadata": {
            "needs_background": "light"
          }
        },
        {
          "output_type": "stream",
          "name": "stdout",
          "text": [
            "R2 score of  DecisionTreeRegressor(max_depth=24, random_state=97)  :  0.8402128517696641\n"
          ]
        }
      ]
    },
    {
      "cell_type": "code",
      "source": [
        "from sklearn import tree"
      ],
      "metadata": {
        "id": "BWdSXkXhtEcI"
      },
      "execution_count": 110,
      "outputs": []
    },
    {
      "cell_type": "markdown",
      "source": [
        "**iv)Evaluation metric for RandomForest classifier**"
      ],
      "metadata": {
        "id": "mc6jBb3RtHZh"
      }
    },
    {
      "cell_type": "code",
      "source": [
        "evaluate(rfr,X_test_scale,y_test,y_predict_rfr,result_R)"
      ],
      "metadata": {
        "colab": {
          "base_uri": "https://localhost:8080/",
          "height": 495
        },
        "id": "tWpTLB9stKDe",
        "outputId": "fb594740-3048-46e1-9a80-54492bfd342f"
      },
      "execution_count": 111,
      "outputs": [
        {
          "output_type": "display_data",
          "data": {
            "text/plain": [
              "<Figure size 1440x720 with 0 Axes>"
            ]
          },
          "metadata": {}
        },
        {
          "output_type": "display_data",
          "data": {
            "text/plain": [
              "<Figure size 432x432 with 3 Axes>"
            ],
            "image/png": "[encoded data removed]"
          },
          "metadata": {
            "needs_background": "light"
          }
        },
        {
          "output_type": "stream",
          "name": "stdout",
          "text": [
            "R2 score of  RandomForestRegressor(max_depth=5, max_features='sqrt', n_estimators=40,\n",
            "                      random_state=97)  :  0.46337611558465974\n"
          ]
        }
      ]
    },
    {
      "cell_type": "markdown",
      "source": [
        "**v)Evaluation metric for Xgboost classifier**"
      ],
      "metadata": {
        "id": "7a8wgOLptQFz"
      }
    },
    {
      "cell_type": "code",
      "source": [
        "evaluate(Xgb,X_test_scale,y_test,y_predict_Xgb,result_X)"
      ],
      "metadata": {
        "colab": {
          "base_uri": "https://localhost:8080/",
          "height": 656
        },
        "id": "_DQFgvCntRmt",
        "outputId": "d674163e-5547-49e1-ae7d-a3939754d24d"
      },
      "execution_count": 112,
      "outputs": [
        {
          "output_type": "display_data",
          "data": {
            "text/plain": [
              "<Figure size 1440x720 with 0 Axes>"
            ]
          },
          "metadata": {}
        },
        {
          "output_type": "display_data",
          "data": {
            "text/plain": [
              "<Figure size 432x432 with 3 Axes>"
            ],
            "image/png": "[encoded data removed]"
          },
          "metadata": {
            "needs_background": "light"
          }
        },
        {
          "output_type": "stream",
          "name": "stdout",
          "text": [
            "R2 score of  XGBRegressor(base_score=None, booster=None, callbacks=None,\n",
            "             colsample_bylevel=None, colsample_bynode=None,\n",
            "             colsample_bytree=None, early_stopping_rounds=None,\n",
            "             enable_categorical=False, eval_metric=None, feature_types=None,\n",
            "             gamma=None, gpu_id=None, grow_policy=None, importance_type=None,\n",
            "             interaction_constraints=None, learning_rate=0.5, max_bin=None,\n",
            "             max_cat_threshold=None, max_cat_to_onehot=None,\n",
            "             max_delta_step=None, max_depth=None, max_leaves=None,\n",
            "             min_child_weight=None, missing=nan, monotone_constraints=None,\n",
            "             n_estimators=200, n_jobs=None, num_parallel_tree=None,\n",
            "             predictor=None, random_state=97, ...)  :  0.8402128973535465\n"
          ]
        }
      ]
    },
    {
      "cell_type": "markdown",
      "source": [
        "**vi) evaluation metric for Voting classifier**"
      ],
      "metadata": {
        "id": "AJqT5rJFtX31"
      }
    },
    {
      "cell_type": "code",
      "source": [
        "evaluate(vot,X_test_scale,y_test,y_predict_vot,result_V)\n"
      ],
      "metadata": {
        "colab": {
          "base_uri": "https://localhost:8080/",
          "height": 944
        },
        "id": "FOiXBqfXtZo6",
        "outputId": "ebf25c1c-6825-423f-c91b-b67de301e73c"
      },
      "execution_count": 113,
      "outputs": [
        {
          "output_type": "display_data",
          "data": {
            "text/plain": [
              "<Figure size 1440x720 with 0 Axes>"
            ]
          },
          "metadata": {}
        },
        {
          "output_type": "display_data",
          "data": {
            "text/plain": [
              "<Figure size 432x432 with 3 Axes>"
            ],
            "image/png": "[encoded data removed]"
          },
          "metadata": {
            "needs_background": "light"
          }
        },
        {
          "output_type": "stream",
          "name": "stdout",
          "text": [
            "R2 score of  VotingRegressor(estimators=[('KNN', KNeighborsRegressor(n_neighbors=1)),\n",
            "                            ('DT',\n",
            "                             DecisionTreeRegressor(max_depth=24,\n",
            "                                                   random_state=97)),\n",
            "                            ('XGB',\n",
            "                             XGBRegressor(base_score=None, booster=None,\n",
            "                                          callbacks=None,\n",
            "                                          colsample_bylevel=None,\n",
            "                                          colsample_bynode=None,\n",
            "                                          colsample_bytree=None,\n",
            "                                          early_stopping_rounds=None,\n",
            "                                          enable_categorical=False,\n",
            "                                          eval_metric=None, feature_types=None,\n",
            "                                          g...None,\n",
            "                                          grow_policy=None,\n",
            "                                          importance_type=None,\n",
            "                                          interaction_constraints=None,\n",
            "                                          learning_rate=0.5, max_bin=None,\n",
            "                                          max_cat_threshold=None,\n",
            "                                          max_cat_to_onehot=None,\n",
            "                                          max_delta_step=None, max_depth=None,\n",
            "                                          max_leaves=None,\n",
            "                                          min_child_weight=None, missing=nan,\n",
            "                                          monotone_constraints=None,\n",
            "                                          n_estimators=200, n_jobs=None,\n",
            "                                          num_parallel_tree=None,\n",
            "                                          predictor=None, random_state=97, ...))])  :  0.8402128669643585\n"
          ]
        }
      ]
    },
    {
      "cell_type": "markdown",
      "source": [
        "**SCORING COMPARISON**"
      ],
      "metadata": {
        "id": "dxtE6mOytf8a"
      }
    },
    {
      "cell_type": "code",
      "source": [
        "score=[score_L,score_K,score_D,score_R,score_X,score_V]\n",
        "model=['Linear regression','KNN regression','Decision tree regression','RandomForest regression','XGboost regression','voting regression']\n",
        "RESULT= pd.DataFrame({'model': model, 'score': score})\n",
        "RESULT"
      ],
      "metadata": {
        "colab": {
          "base_uri": "https://localhost:8080/",
          "height": 237
        },
        "id": "oM_mXgAothsu",
        "outputId": "14c0668a-acbd-479a-981e-2f8a8c731f51"
      },
      "execution_count": 114,
      "outputs": [
        {
          "output_type": "execute_result",
          "data": {
            "text/plain": [
              "                      model     score\n",
              "0         Linear regression -0.013282\n",
              "1            KNN regression  0.840213\n",
              "2  Decision tree regression  0.840213\n",
              "3   RandomForest regression  0.463376\n",
              "4        XGboost regression  0.840213\n",
              "5         voting regression  0.840213"
            ],
            "text/html": [
              "\n",
              "  <div id=\"df-234070ae-aef2-4df9-ae02-16459f5b6f10\">\n",
              "    <div class=\"colab-df-container\">\n",
              "      <div>\n",
              "<style scoped>\n",
              "    .dataframe tbody tr th:only-of-type {\n",
              "        vertical-align: middle;\n",
              "    }\n",
              "\n",
              "    .dataframe tbody tr th {\n",
              "        vertical-align: top;\n",
              "    }\n",
              "\n",
              "    .dataframe thead th {\n",
              "        text-align: right;\n",
              "    }\n",
              "</style>\n",
              "<table border=\"1\" class=\"dataframe\">\n",
              "  <thead>\n",
              "    <tr style=\"text-align: right;\">\n",
              "      <th></th>\n",
              "      <th>model</th>\n",
              "      <th>score</th>\n",
              "    </tr>\n",
              "  </thead>\n",
              "  <tbody>\n",
              "    <tr>\n",
              "      <th>0</th>\n",
              "      <td>Linear regression</td>\n",
              "      <td>-0.013282</td>\n",
              "    </tr>\n",
              "    <tr>\n",
              "      <th>1</th>\n",
              "      <td>KNN regression</td>\n",
              "      <td>0.840213</td>\n",
              "    </tr>\n",
              "    <tr>\n",
              "      <th>2</th>\n",
              "      <td>Decision tree regression</td>\n",
              "      <td>0.840213</td>\n",
              "    </tr>\n",
              "    <tr>\n",
              "      <th>3</th>\n",
              "      <td>RandomForest regression</td>\n",
              "      <td>0.463376</td>\n",
              "    </tr>\n",
              "    <tr>\n",
              "      <th>4</th>\n",
              "      <td>XGboost regression</td>\n",
              "      <td>0.840213</td>\n",
              "    </tr>\n",
              "    <tr>\n",
              "      <th>5</th>\n",
              "      <td>voting regression</td>\n",
              "      <td>0.840213</td>\n",
              "    </tr>\n",
              "  </tbody>\n",
              "</table>\n",
              "</div>\n",
              "      <button class=\"colab-df-convert\" onclick=\"convertToInteractive('df-234070ae-aef2-4df9-ae02-16459f5b6f10')\"\n",
              "              title=\"Convert this dataframe to an interactive table.\"\n",
              "              style=\"display:none;\">\n",
              "        \n",
              "  <svg xmlns=\"http://www.w3.org/2000/svg\" height=\"24px\"viewBox=\"0 0 24 24\"\n",
              "       width=\"24px\">\n",
              "    <path d=\"M0 0h24v24H0V0z\" fill=\"none\"/>\n",
              "    <path d=\"M18.56 5.44l.94 2.06.94-2.06 2.06-.94-2.06-.94-.94-2.06-.94 2.06-2.06.94zm-11 1L8.5 8.5l.94-2.06 2.06-.94-2.06-.94L8.5 2.5l-.94 2.06-2.06.94zm10 10l.94 2.06.94-2.06 2.06-.94-2.06-.94-.94-2.06-.94 2.06-2.06.94z\"/><path d=\"M17.41 7.96l-1.37-1.37c-.4-.4-.92-.59-1.43-.59-.52 0-1.04.2-1.43.59L10.3 9.45l-7.72 7.72c-.78.78-.78 2.05 0 2.83L4 21.41c.39.39.9.59 1.41.59.51 0 1.02-.2 1.41-.59l7.78-7.78 2.81-2.81c.8-.78.8-2.07 0-2.86zM5.41 20L4 18.59l7.72-7.72 1.47 1.35L5.41 20z\"/>\n",
              "  </svg>\n",
              "      </button>\n",
              "      \n",
              "  <style>\n",
              "    .colab-df-container {\n",
              "      display:flex;\n",
              "      flex-wrap:wrap;\n",
              "      gap: 12px;\n",
              "    }\n",
              "\n",
              "    .colab-df-convert {\n",
              "      background-color: #E8F0FE;\n",
              "      border: none;\n",
              "      border-radius: 50%;\n",
              "      cursor: pointer;\n",
              "      display: none;\n",
              "      fill: #1967D2;\n",
              "      height: 32px;\n",
              "      padding: 0 0 0 0;\n",
              "      width: 32px;\n",
              "    }\n",
              "\n",
              "    .colab-df-convert:hover {\n",
              "      background-color: #E2EBFA;\n",
              "      box-shadow: 0px 1px 2px rgba(60, 64, 67, 0.3), 0px 1px 3px 1px rgba(60, 64, 67, 0.15);\n",
              "      fill: #174EA6;\n",
              "    }\n",
              "\n",
              "    [theme=dark] .colab-df-convert {\n",
              "      background-color: #3B4455;\n",
              "      fill: #D2E3FC;\n",
              "    }\n",
              "\n",
              "    [theme=dark] .colab-df-convert:hover {\n",
              "      background-color: #434B5C;\n",
              "      box-shadow: 0px 1px 3px 1px rgba(0, 0, 0, 0.15);\n",
              "      filter: drop-shadow(0px 1px 2px rgba(0, 0, 0, 0.3));\n",
              "      fill: #FFFFFF;\n",
              "    }\n",
              "  </style>\n",
              "\n",
              "      <script>\n",
              "        const buttonEl =\n",
              "          document.querySelector('#df-234070ae-aef2-4df9-ae02-16459f5b6f10 button.colab-df-convert');\n",
              "        buttonEl.style.display =\n",
              "          google.colab.kernel.accessAllowed ? 'block' : 'none';\n",
              "\n",
              "        async function convertToInteractive(key) {\n",
              "          const element = document.querySelector('#df-234070ae-aef2-4df9-ae02-16459f5b6f10');\n",
              "          const dataTable =\n",
              "            await google.colab.kernel.invokeFunction('convertToInteractive',\n",
              "                                                     [key], {});\n",
              "          if (!dataTable) return;\n",
              "\n",
              "          const docLinkHtml = 'Like what you see? Visit the ' +\n",
              "            '<a target=\"_blank\" href=https://colab.research.google.com/notebooks/data_table.ipynb>data table notebook</a>'\n",
              "            + ' to learn more about interactive tables.';\n",
              "          element.innerHTML = '';\n",
              "          dataTable['output_type'] = 'display_data';\n",
              "          await google.colab.output.renderOutput(dataTable, element);\n",
              "          const docLink = document.createElement('div');\n",
              "          docLink.innerHTML = docLinkHtml;\n",
              "          element.appendChild(docLink);\n",
              "        }\n",
              "      </script>\n",
              "    </div>\n",
              "  </div>\n",
              "  "
            ]
          },
          "metadata": {},
          "execution_count": 114
        }
      ]
    },
    {
      "cell_type": "markdown",
      "source": [
        "**Model Deploying**"
      ],
      "metadata": {
        "id": "8G2fiqa9toqh"
      }
    },
    {
      "cell_type": "code",
      "source": [
        "y_predict_Xgb,result_X,score_X,Xgb,MAE_X=algorithm(XGBRegressor(learning_rate=0.47,n_estimators= 500,random_state=97,objective='reg:squarederror'),X_train, X_test, y_train, y_test,0.47)\n",
        "     "
      ],
      "metadata": {
        "colab": {
          "base_uri": "https://localhost:8080/"
        },
        "id": "8fYu0MOFvkKA",
        "outputId": "6123b2b9-499a-41d6-99b5-aa2e3c7ed0a0"
      },
      "execution_count": 126,
      "outputs": [
        {
          "output_type": "stream",
          "name": "stdout",
          "text": [
            "for  0.47  value  Train Accuracy :  1.0 Val Accuracy : -1.519\n"
          ]
        }
      ]
    },
    {
      "cell_type": "code",
      "source": [
        "import pickle"
      ],
      "metadata": {
        "id": "uE_PRA5P2KRP"
      },
      "execution_count": 130,
      "outputs": []
    },
    {
      "cell_type": "code",
      "source": [
        "pickle.dump(Xgb,open('best_Xgb_model.pkl','wb'))"
      ],
      "metadata": {
        "id": "07bZS_WZ2NBX"
      },
      "execution_count": 131,
      "outputs": []
    },
    {
      "cell_type": "code",
      "source": [
        "model=pickle.load(open('best_Xgb_model.pkl','rb'))\n",
        "model.predict([[1,92,24,206,29,6,7,3,2016]])"
      ],
      "metadata": {
        "colab": {
          "base_uri": "https://localhost:8080/"
        },
        "id": "U391w8nt2XOL",
        "outputId": "6580fee5-5e69-4d32-a6c2-7b8edc778558"
      },
      "execution_count": 132,
      "outputs": [
        {
          "output_type": "execute_result",
          "data": {
            "text/plain": [
              "array([23645.004], dtype=float32)"
            ]
          },
          "metadata": {},
          "execution_count": 132
        }
      ]
    },
    {
      "cell_type": "code",
      "source": [
        "!pip install streamlit\n",
        "!pip install writefile"
      ],
      "metadata": {
        "colab": {
          "base_uri": "https://localhost:8080/"
        },
        "id": "vIkY6soH2cSf",
        "outputId": "3d4a62be-1526-47a3-8fa4-daabf31990df"
      },
      "execution_count": 133,
      "outputs": [
        {
          "output_type": "stream",
          "name": "stdout",
          "text": [
            "Looking in indexes: https://pypi.org/simple, https://us-python.pkg.dev/colab-wheels/public/simple/\n",
            "Collecting streamlit\n",
            "  Downloading streamlit-1.19.0-py2.py3-none-any.whl (9.6 MB)\n",
            "\u001b[2K     \u001b[90m━━━━━━━━━━━━━━━━━━━━━━━━━━━━━━━━━━━━━━━━\u001b[0m \u001b[32m9.6/9.6 MB\u001b[0m \u001b[31m43.8 MB/s\u001b[0m eta \u001b[36m0:00:00\u001b[0m\n",
            "\u001b[?25hRequirement already satisfied: requests>=2.4 in /usr/local/lib/python3.8/dist-packages (from streamlit) (2.25.1)\n",
            "Collecting blinker>=1.0.0\n",
            "  Downloading blinker-1.5-py2.py3-none-any.whl (12 kB)\n",
            "Requirement already satisfied: altair>=3.2.0 in /usr/local/lib/python3.8/dist-packages (from streamlit) (4.2.2)\n",
            "Collecting semver\n",
            "  Downloading semver-2.13.0-py2.py3-none-any.whl (12 kB)\n",
            "Requirement already satisfied: importlib-metadata>=1.4 in /usr/local/lib/python3.8/dist-packages (from streamlit) (6.0.0)\n",
            "Collecting watchdog\n",
            "  Downloading watchdog-2.3.1-py3-none-manylinux2014_x86_64.whl (80 kB)\n",
            "\u001b[2K     \u001b[90m━━━━━━━━━━━━━━━━━━━━━━━━━━━━━━━━━━━━━━━━\u001b[0m \u001b[32m80.6/80.6 KB\u001b[0m \u001b[31m8.5 MB/s\u001b[0m eta \u001b[36m0:00:00\u001b[0m\n",
            "\u001b[?25hCollecting gitpython!=3.1.19\n",
            "  Downloading GitPython-3.1.31-py3-none-any.whl (184 kB)\n",
            "\u001b[2K     \u001b[90m━━━━━━━━━━━━━━━━━━━━━━━━━━━━━━━━━━━━━━\u001b[0m \u001b[32m184.3/184.3 KB\u001b[0m \u001b[31m16.6 MB/s\u001b[0m eta \u001b[36m0:00:00\u001b[0m\n",
            "\u001b[?25hRequirement already satisfied: pandas>=0.25 in /usr/local/lib/python3.8/dist-packages (from streamlit) (1.3.5)\n",
            "Collecting validators>=0.2\n",
            "  Downloading validators-0.20.0.tar.gz (30 kB)\n",
            "  Preparing metadata (setup.py) ... \u001b[?25l\u001b[?25hdone\n",
            "Collecting rich>=10.11.0\n",
            "  Downloading rich-13.3.1-py3-none-any.whl (239 kB)\n",
            "\u001b[2K     \u001b[90m━━━━━━━━━━━━━━━━━━━━━━━━━━━━━━━━━━━━━━\u001b[0m \u001b[32m239.0/239.0 KB\u001b[0m \u001b[31m20.6 MB/s\u001b[0m eta \u001b[36m0:00:00\u001b[0m\n",
            "\u001b[?25hRequirement already satisfied: tzlocal>=1.1 in /usr/local/lib/python3.8/dist-packages (from streamlit) (1.5.1)\n",
            "Collecting pympler>=0.9\n",
            "  Downloading Pympler-1.0.1-py3-none-any.whl (164 kB)\n",
            "\u001b[2K     \u001b[90m━━━━━━━━━━━━━━━━━━━━━━━━━━━━━━━━━━━━━━\u001b[0m \u001b[32m164.8/164.8 KB\u001b[0m \u001b[31m15.5 MB/s\u001b[0m eta \u001b[36m0:00:00\u001b[0m\n",
            "\u001b[?25hRequirement already satisfied: python-dateutil in /usr/local/lib/python3.8/dist-packages (from streamlit) (2.8.2)\n",
            "Requirement already satisfied: pillow>=6.2.0 in /usr/local/lib/python3.8/dist-packages (from streamlit) (8.4.0)\n",
            "Requirement already satisfied: cachetools>=4.0 in /usr/local/lib/python3.8/dist-packages (from streamlit) (5.3.0)\n",
            "Requirement already satisfied: toml in /usr/local/lib/python3.8/dist-packages (from streamlit) (0.10.2)\n",
            "Requirement already satisfied: pyarrow>=4.0 in /usr/local/lib/python3.8/dist-packages (from streamlit) (9.0.0)\n",
            "Requirement already satisfied: click>=7.0 in /usr/local/lib/python3.8/dist-packages (from streamlit) (8.1.3)\n",
            "Requirement already satisfied: typing-extensions>=3.10.0.0 in /usr/local/lib/python3.8/dist-packages (from streamlit) (4.5.0)\n",
            "Requirement already satisfied: tornado>=6.0.3 in /usr/local/lib/python3.8/dist-packages (from streamlit) (6.2)\n",
            "Requirement already satisfied: packaging>=14.1 in /usr/local/lib/python3.8/dist-packages (from streamlit) (23.0)\n",
            "Requirement already satisfied: numpy in /usr/local/lib/python3.8/dist-packages (from streamlit) (1.22.4)\n",
            "Requirement already satisfied: protobuf<4,>=3.12 in /usr/local/lib/python3.8/dist-packages (from streamlit) (3.19.6)\n",
            "Collecting pydeck>=0.1.dev5\n",
            "  Downloading pydeck-0.8.0-py2.py3-none-any.whl (4.7 MB)\n",
            "\u001b[2K     \u001b[90m━━━━━━━━━━━━━━━━━━━━━━━━━━━━━━━━━━━━━━━━\u001b[0m \u001b[32m4.7/4.7 MB\u001b[0m \u001b[31m35.2 MB/s\u001b[0m eta \u001b[36m0:00:00\u001b[0m\n",
            "\u001b[?25hRequirement already satisfied: entrypoints in /usr/local/lib/python3.8/dist-packages (from altair>=3.2.0->streamlit) (0.4)\n",
            "Requirement already satisfied: jinja2 in /usr/local/lib/python3.8/dist-packages (from altair>=3.2.0->streamlit) (3.1.2)\n",
            "Requirement already satisfied: jsonschema>=3.0 in /usr/local/lib/python3.8/dist-packages (from altair>=3.2.0->streamlit) (4.3.3)\n",
            "Requirement already satisfied: toolz in /usr/local/lib/python3.8/dist-packages (from altair>=3.2.0->streamlit) (0.12.0)\n",
            "Collecting gitdb<5,>=4.0.1\n",
            "  Downloading gitdb-4.0.10-py3-none-any.whl (62 kB)\n",
            "\u001b[2K     \u001b[90m━━━━━━━━━━━━━━━━━━━━━━━━━━━━━━━━━━━━━━━━\u001b[0m \u001b[32m62.7/62.7 KB\u001b[0m \u001b[31m6.3 MB/s\u001b[0m eta \u001b[36m0:00:00\u001b[0m\n",
            "\u001b[?25hRequirement already satisfied: zipp>=0.5 in /usr/local/lib/python3.8/dist-packages (from importlib-metadata>=1.4->streamlit) (3.15.0)\n",
            "Requirement already satisfied: pytz>=2017.3 in /usr/local/lib/python3.8/dist-packages (from pandas>=0.25->streamlit) (2022.7.1)\n",
            "Requirement already satisfied: six>=1.5 in /usr/local/lib/python3.8/dist-packages (from python-dateutil->streamlit) (1.15.0)\n",
            "Requirement already satisfied: certifi>=2017.4.17 in /usr/local/lib/python3.8/dist-packages (from requests>=2.4->streamlit) (2022.12.7)\n",
            "Requirement already satisfied: urllib3<1.27,>=1.21.1 in /usr/local/lib/python3.8/dist-packages (from requests>=2.4->streamlit) (1.26.14)\n",
            "Requirement already satisfied: idna<3,>=2.5 in /usr/local/lib/python3.8/dist-packages (from requests>=2.4->streamlit) (2.10)\n",
            "Requirement already satisfied: chardet<5,>=3.0.2 in /usr/local/lib/python3.8/dist-packages (from requests>=2.4->streamlit) (4.0.0)\n",
            "Collecting pygments<3.0.0,>=2.14.0\n",
            "  Downloading Pygments-2.14.0-py3-none-any.whl (1.1 MB)\n",
            "\u001b[2K     \u001b[90m━━━━━━━━━━━━━━━━━━━━━━━━━━━━━━━━━━━━━━━━\u001b[0m \u001b[32m1.1/1.1 MB\u001b[0m \u001b[31m46.7 MB/s\u001b[0m eta \u001b[36m0:00:00\u001b[0m\n",
            "\u001b[?25hCollecting markdown-it-py<3.0.0,>=2.1.0\n",
            "  Downloading markdown_it_py-2.2.0-py3-none-any.whl (84 kB)\n",
            "\u001b[2K     \u001b[90m━━━━━━━━━━━━━━━━━━━━━━━━━━━━━━━━━━━━━━━━\u001b[0m \u001b[32m84.5/84.5 KB\u001b[0m \u001b[31m8.3 MB/s\u001b[0m eta \u001b[36m0:00:00\u001b[0m\n",
            "\u001b[?25hRequirement already satisfied: decorator>=3.4.0 in /usr/local/lib/python3.8/dist-packages (from validators>=0.2->streamlit) (4.4.2)\n",
            "Collecting smmap<6,>=3.0.1\n",
            "  Downloading smmap-5.0.0-py3-none-any.whl (24 kB)\n",
            "Requirement already satisfied: MarkupSafe>=2.0 in /usr/local/lib/python3.8/dist-packages (from jinja2->altair>=3.2.0->streamlit) (2.1.2)\n",
            "Requirement already satisfied: pyrsistent!=0.17.0,!=0.17.1,!=0.17.2,>=0.14.0 in /usr/local/lib/python3.8/dist-packages (from jsonschema>=3.0->altair>=3.2.0->streamlit) (0.19.3)\n",
            "Requirement already satisfied: importlib-resources>=1.4.0 in /usr/local/lib/python3.8/dist-packages (from jsonschema>=3.0->altair>=3.2.0->streamlit) (5.12.0)\n",
            "Requirement already satisfied: attrs>=17.4.0 in /usr/local/lib/python3.8/dist-packages (from jsonschema>=3.0->altair>=3.2.0->streamlit) (22.2.0)\n",
            "Collecting mdurl~=0.1\n",
            "  Downloading mdurl-0.1.2-py3-none-any.whl (10.0 kB)\n",
            "Building wheels for collected packages: validators\n",
            "  Building wheel for validators (setup.py) ... \u001b[?25l\u001b[?25hdone\n",
            "  Created wheel for validators: filename=validators-0.20.0-py3-none-any.whl size=19581 sha256=8710d6f0d38338fb5c024cc8bc40bae436a802f40a9581957095bcae5cfca9dc\n",
            "  Stored in directory: /root/.cache/pip/wheels/19/09/72/3eb74d236bb48bd0f3c6c3c83e4e0c5bbfcbcad7c6c3539db8\n",
            "Successfully built validators\n",
            "Installing collected packages: watchdog, validators, smmap, semver, pympler, pygments, mdurl, blinker, pydeck, markdown-it-py, gitdb, rich, gitpython, streamlit\n",
            "  Attempting uninstall: pygments\n",
            "    Found existing installation: Pygments 2.6.1\n",
            "    Uninstalling Pygments-2.6.1:\n",
            "      Successfully uninstalled Pygments-2.6.1\n",
            "\u001b[31mERROR: pip's dependency resolver does not currently take into account all the packages that are installed. This behaviour is the source of the following dependency conflicts.\n",
            "ipython 7.9.0 requires jedi>=0.10, which is not installed.\u001b[0m\u001b[31m\n",
            "\u001b[0mSuccessfully installed blinker-1.5 gitdb-4.0.10 gitpython-3.1.31 markdown-it-py-2.2.0 mdurl-0.1.2 pydeck-0.8.0 pygments-2.14.0 pympler-1.0.1 rich-13.3.1 semver-2.13.0 smmap-5.0.0 streamlit-1.19.0 validators-0.20.0 watchdog-2.3.1\n",
            "Looking in indexes: https://pypi.org/simple, https://us-python.pkg.dev/colab-wheels/public/simple/\n",
            "Collecting writefile\n",
            "  Downloading writefile-0.2.tar.gz (2.4 kB)\n",
            "  Preparing metadata (setup.py) ... \u001b[?25l\u001b[?25hdone\n",
            "Building wheels for collected packages: writefile\n",
            "  Building wheel for writefile (setup.py) ... \u001b[?25l\u001b[?25hdone\n",
            "  Created wheel for writefile: filename=writefile-0.2-py3-none-any.whl size=2903 sha256=01c35a1f776154d164a0b1752ebc7781eb55653bf6dc578b2d7a63f9c0ab7e9d\n",
            "  Stored in directory: /root/.cache/pip/wheels/f4/f6/99/56d389fac4665e36ee74470f9127213f6298c17edace78f694\n",
            "Successfully built writefile\n",
            "Installing collected packages: writefile\n",
            "Successfully installed writefile-0.2\n"
          ]
        }
      ]
    },
    {
      "cell_type": "code",
      "source": [
        "%%writefile app_idf.py\n",
        "\n",
        "import numpy as np\n",
        "import pickle\n",
        "import pandas as pd\n",
        "import streamlit as st\n",
        "import datetime\n",
        "\n",
        "model=pickle.load(open('best_Xgb_model.pkl','rb'))\n",
        "\n",
        "def deploy():\n",
        "  st.set_page_config(layout='wide')\n",
        "  \n",
        "  st.title('ITEM DEMAND FORECASTING')\n",
        "  st.header('Enter the item Details')\n",
        "  date=st.date_input('which date you want to Forecast :')\n",
        "  item=st.number_input('which item you want to forecast:' , min_value=1,max_value=50)\n",
        "\n",
        "  if st.button('Demand Forecast'):\n",
        "    forecast=predict(date,item)\n",
        "    forecast=np.round_(forecast,0)\n",
        "    st.success(f'Demand of {item} Item at after 3 Months is : {forecast[0]}')\n",
        "\n",
        "  \n",
        "def predict(date,item):\n",
        "  date=pd.to_datetime(date)\n",
        "  dayofyear=date.dayofyear\n",
        "  day=date.day\n",
        "  week=date.week\n",
        "  dayofweek=date.dayofweek\n",
        "  quarter=date.quarter\n",
        "  month=date.month\n",
        "  year=date.year\n",
        "  duration=(pd.to_datetime(date+pd.DateOffset(months=+3))-pd.to_datetime(date)).days\n",
        "  prediction=model.predict([[item,duration,day,dayofyear,week,dayofweek,month,quarter,year]])\n",
        "    \n",
        "  return prediction\n",
        "  \n",
        "\n",
        "if __name__=='__main__':\n",
        "  deploy()"
      ],
      "metadata": {
        "colab": {
          "base_uri": "https://localhost:8080/"
        },
        "id": "I3X0zP9x2qet",
        "outputId": "5adf0c7e-5431-4877-9d5c-ef55efbcfd1b"
      },
      "execution_count": 134,
      "outputs": [
        {
          "output_type": "stream",
          "name": "stdout",
          "text": [
            "Writing app_idf.py\n"
          ]
        }
      ]
    },
    {
      "cell_type": "code",
      "source": [
        "!streamlit run app_idf.py & npx localtunnel --port 8501"
      ],
      "metadata": {
        "colab": {
          "base_uri": "https://localhost:8080/"
        },
        "id": "EtGEJmRt2wQE",
        "outputId": "00172a48-9c25-4519-affd-a94f9c581b88"
      },
      "execution_count": 135,
      "outputs": [
        {
          "output_type": "stream",
          "name": "stdout",
          "text": [
            "[#######...........] \\ extract:localtunnel: verb lock using /root/.npm/_locks/s\u001b[0m\u001b[K\n",
            "Collecting usage statistics. To deactivate, set browser.gatherUsageStats to False.\n",
            "\u001b[0m\n",
            "\u001b[0m\n",
            "\u001b[34m\u001b[1m  You can now view your Streamlit app in your browser.\u001b[0m\n",
            "\u001b[0m\n",
            "\u001b[34m  Network URL: \u001b[0m\u001b[1mhttp://172.28.0.12:8501\u001b[0m\n",
            "\u001b[34m  External URL: \u001b[0m\u001b[1mhttp://34.83.100.82:8501\u001b[0m\n",
            "\u001b[0m\n",
            "\u001b[K\u001b[?25hnpx: installed 22 in 6.809s\n",
            "your url is: https://icy-needles-heal-34-83-100-82.loca.lt\n",
            "\u001b[34m  Stopping...\u001b[0m\n",
            "^C\n"
          ]
        }
      ]
    }
  ]
}