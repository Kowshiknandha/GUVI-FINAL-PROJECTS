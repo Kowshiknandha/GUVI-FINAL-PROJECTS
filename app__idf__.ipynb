{
  "nbformat": 4,
  "nbformat_minor": 0,
  "metadata": {
    "colab": {
      "provenance": [],
      "authorship_tag": "ABX9TyNfgwdlDEo4+CPN9El0B0wl",
      "include_colab_link": true
    },
    "kernelspec": {
      "name": "python3",
      "display_name": "Python 3"
    },
    "language_info": {
      "name": "python"
    }
  },
  "cells": [
    {
      "cell_type": "markdown",
      "metadata": {
        "id": "view-in-github",
        "colab_type": "text"
      },
      "source": [
        "<a href=\"https://colab.research.google.com/github/Kowshiknandha/GUVI-FINAL-PROJECTS/blob/main/app__idf__.ipynb\" target=\"_parent\"><img src=\"https://colab.research.google.com/assets/colab-badge.svg\" alt=\"Open In Colab\"/></a>"
      ]
    },
    {
      "cell_type": "code",
      "source": [
        "import numpy as np\n",
        "import pickle\n",
        "import pandas as pd\n",
        "import streamlit as st\n",
        "import datetime\n",
        "\n",
        "\n",
        "\n",
        "def deploy():\n",
        "  st.set_page_config(layout='wide')\n",
        "  \n",
        "  st.title('ITEM DEMAND FORECASTING')\n",
        "  st.header('Enter the item Details')\n",
        "  date=st.date_input('which date you want to Forecast :')\n",
        "  item=st.number_input('which item you want to forecast:' , min_value=1,max_value=50)\n",
        "\n",
        "  if st.button('Demand Forecast'):\n",
        "    forecast=predict(date,item)\n",
        "    forecast=np.round_(forecast,0)\n",
        "    st.success(f'Demand of {item} Item at after 3 Months is : {forecast[0]}')\n",
        "def isweekend(data):\n",
        "  if data < 5 :\n",
        "    return 0\n",
        "  else:\n",
        "    return 1\n",
        "  \n",
        "def predict(date,item):\n",
        "  date=pd.to_datetime(date)\n",
        "  duration=(pd.to_datetime(date+pd.DateOffset(months=+3))-pd.to_datetime(date)).days\n",
        "  df=pd.DataFrame({'date':[date],'item':[item],'duration':[duration]})\n",
        "  df['day']=df['date'].dt.day\n",
        "  df['dayofyear']=df['date'].dt.dayofyear\n",
        "  df['week']=df['date'].dt.weekofyear\n",
        "  df['weekday']=df['date'].dt.weekday\n",
        "  df['weekend']=[isweekend(i) for i in df['weekday']]\n",
        "  df['month']=df['date'].dt.month\n",
        "  df['quarter']=df['date'].dt.quarter\n",
        "  df['year']=df['date'].dt.year\n",
        "  df['days_count']=df['date'].dt.days_in_month.astype(int)\n",
        "  df['month_start']=df['date'].dt.is_month_start.astype(int)\n",
        "  df['month_end']=df['date'].dt.is_month_end.astype(int)\n",
        "  df['year_start']=df['date'].dt.is_year_start.astype(int)\n",
        "  df['year_end']=df['date'].dt.is_year_end.astype(int)\n",
        "  df['quarter_start']=df['date'].dt.is_quarter_start.astype(int)\n",
        "  df['quarter_end']=df['date'].dt.is_quarter_end.astype(int)\n",
        "  X_test=df.drop(['date'],axis=1).values\n",
        "  model=pickle.load(open('best_Xgb_model.pkl','rb'))\n",
        "  prediction=model.predict(X_test)\n",
        "    \n",
        "  return prediction\n",
        "  \n",
        "\n",
        "if __name__=='__main__':\n",
        "  deploy()"
      ],
      "metadata": {
        "id": "INk3oL-4eea_"
      },
      "execution_count": null,
      "outputs": []
    }
  ]
}